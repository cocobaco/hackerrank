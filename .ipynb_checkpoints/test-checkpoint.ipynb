{
 "cells": [
  {
   "cell_type": "code",
   "execution_count": 7,
   "metadata": {},
   "outputs": [],
   "source": [
    "def hourglassSum(arr):\n",
    "    nrows = len(arr)\n",
    "    ncols = len(arr[0])\n",
    "    nhori = ncols - 2\n",
    "    nvert = nrows - 2\n",
    "    n_hg = nhori * nvert\n",
    "    hgsum = []\n",
    "    for i in range(nhori):\n",
    "        for j in range(nvert):\n",
    "            hg = [[arr[i][j], arr[i][j+1], arr[i][j+2]], \n",
    "                  [0, arr[i+1][j+1], 0], \n",
    "                  [arr[i+2][j], arr[i+2][j+1], arr[i+2][j+2]]]\n",
    "#             print(hg)\n",
    "            hgsum.append(sum(hg[0]) + sum(hg[1]) + sum(hg[2]))\n",
    "        \n",
    "    return max(hgsum)"
   ]
  },
  {
   "cell_type": "code",
   "execution_count": 8,
   "metadata": {},
   "outputs": [],
   "source": [
    "arr = []\n",
    "\n",
    "nums = '''1 1 1 0 0 0\n",
    "0 1 0 0 0 0\n",
    "1 1 1 0 0 0\n",
    "0 0 2 4 4 0\n",
    "0 0 0 2 0 0\n",
    "0 0 1 2 4 0'''\n",
    "\n",
    "# for _ in range(6):\n",
    "#     arr.append(list(map(int, input().rstrip().split())))\n",
    "\n",
    "arr = [[1,1,1,0,0,0], \n",
    "      [0,1,0,0,0,0],\n",
    "      [1,1,1,0,0,0],\n",
    "      [0,0,2,4,4,0],\n",
    "      [0,0,0,2,0,0],\n",
    "      [0,0,1,2,4,0]]\n",
    "    \n",
    "result = hourglassSum(arr)"
   ]
  },
  {
   "cell_type": "code",
   "execution_count": 9,
   "metadata": {},
   "outputs": [
    {
     "data": {
      "text/plain": [
       "19"
      ]
     },
     "execution_count": 9,
     "metadata": {},
     "output_type": "execute_result"
    }
   ],
   "source": [
    "result"
   ]
  },
  {
   "cell_type": "code",
   "execution_count": 6,
   "metadata": {},
   "outputs": [
    {
     "data": {
      "text/plain": [
       "8"
      ]
     },
     "execution_count": 6,
     "metadata": {},
     "output_type": "execute_result"
    }
   ],
   "source": [
    "sum([[4, 4, 0], [0, 0, 0], [2, 4, 0]][0])"
   ]
  },
  {
   "cell_type": "code",
   "execution_count": null,
   "metadata": {},
   "outputs": [],
   "source": []
  }
 ],
 "metadata": {
  "kernelspec": {
   "display_name": "Python 3",
   "language": "python",
   "name": "python3"
  },
  "language_info": {
   "codemirror_mode": {
    "name": "ipython",
    "version": 3
   },
   "file_extension": ".py",
   "mimetype": "text/x-python",
   "name": "python",
   "nbconvert_exporter": "python",
   "pygments_lexer": "ipython3",
   "version": "3.6.5"
  }
 },
 "nbformat": 4,
 "nbformat_minor": 2
}
