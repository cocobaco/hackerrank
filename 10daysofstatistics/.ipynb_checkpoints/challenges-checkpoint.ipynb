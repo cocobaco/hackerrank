{
 "cells": [
  {
   "cell_type": "markdown",
   "metadata": {},
   "source": [
    "# 10 Days of Statistics\n",
    "https://www.hackerrank.com/challenges/s10-basic-statistics\n",
    "\n",
    "start 11 Oct 2018"
   ]
  },
  {
   "cell_type": "markdown",
   "metadata": {},
   "source": [
    "## Day 0: Mean, Median, and Mode"
   ]
  },
  {
   "cell_type": "code",
   "execution_count": 1,
   "metadata": {},
   "outputs": [
    {
     "name": "stdout",
     "output_type": "stream",
     "text": [
      "10\n"
     ]
    }
   ],
   "source": [
    "N = int(input())\n",
    "while (N < 10 or N > 2500):\n",
    "    N = int(input())"
   ]
  },
  {
   "cell_type": "code",
   "execution_count": 20,
   "metadata": {},
   "outputs": [
    {
     "name": "stdout",
     "output_type": "stream",
     "text": [
      "64630 11735 14216 99233 14470 4978 73429 38120 51135 67060\n"
     ]
    }
   ],
   "source": [
    "def getinputnumbers(N):\n",
    "    X = input()\n",
    "    while len(X.split(' ')) != N:\n",
    "        print(f'input length does not equal {N}')\n",
    "        X = input()\n",
    "    Xi = [int(x) for x in X.split()]\n",
    "    for x in Xi:\n",
    "        if x < 0 or x > 1e5:\n",
    "            print('invalid element(s)')\n",
    "            getinputnumbers()\n",
    "    return Xi\n",
    "    \n",
    "Xi = getinputnumbers(N)"
   ]
  },
  {
   "cell_type": "code",
   "execution_count": 40,
   "metadata": {},
   "outputs": [],
   "source": [
    "def getmean(x):\n",
    "    return sum(x)/len(x)\n",
    "\n",
    "def getmedian(x):\n",
    "    x.sort()\n",
    "    if len(x) % 2 == 1:\n",
    "        return x[int((len(x)-1)/2)]\n",
    "    else:\n",
    "        return 0.5 * (x[int(len(x)/2-1)] + x[int(len(x)/2)])\n",
    "    \n",
    "def getmode(x):\n",
    "    counts = {}\n",
    "    x.sort()\n",
    "    x_set = set(x)\n",
    "    x_unique_sorted = sorted(list(x_set))\n",
    "    for xi in x_unique_sorted:\n",
    "        counts[xi] = x.count(xi)\n",
    "    print(counts)\n",
    "    v = list(counts.values())\n",
    "    k = list(counts.keys())\n",
    "    return k[v.index(max(v))]\n",
    "    # return max(counts, key=counts.get)\n",
    "    \n",
    "def getmode2(x):\n",
    "    return max(x, key = x.count)"
   ]
  },
  {
   "cell_type": "code",
   "execution_count": 41,
   "metadata": {},
   "outputs": [
    {
     "data": {
      "text/plain": [
       "[4978, 11735, 14216, 14470, 38120, 51135, 64630, 67060, 73429, 99233]"
      ]
     },
     "execution_count": 41,
     "metadata": {},
     "output_type": "execute_result"
    }
   ],
   "source": [
    "sorted(set(Xi))"
   ]
  },
  {
   "cell_type": "code",
   "execution_count": 42,
   "metadata": {},
   "outputs": [
    {
     "name": "stdout",
     "output_type": "stream",
     "text": [
      "[4978, 11735, 14216, 14470, 38120, 51135, 64630, 67060, 73429, 99233]\n",
      "{4978: 1, 11735: 1, 14216: 1, 14470: 1, 38120: 1, 51135: 1, 64630: 1, 67060: 1, 73429: 1, 99233: 1}\n"
     ]
    },
    {
     "data": {
      "text/plain": [
       "4978"
      ]
     },
     "execution_count": 42,
     "metadata": {},
     "output_type": "execute_result"
    }
   ],
   "source": [
    "getmode(Xi)"
   ]
  },
  {
   "cell_type": "code",
   "execution_count": 43,
   "metadata": {},
   "outputs": [
    {
     "name": "stdout",
     "output_type": "stream",
     "text": [
      "43900.6\n"
     ]
    }
   ],
   "source": [
    "print(f'{getmean(Xi):.1f}')"
   ]
  },
  {
   "cell_type": "code",
   "execution_count": 44,
   "metadata": {},
   "outputs": [
    {
     "name": "stdout",
     "output_type": "stream",
     "text": [
      "44627.5\n"
     ]
    }
   ],
   "source": [
    "print(f'{getmedian(Xi):.1f}')"
   ]
  },
  {
   "cell_type": "code",
   "execution_count": 45,
   "metadata": {},
   "outputs": [
    {
     "name": "stdout",
     "output_type": "stream",
     "text": [
      "[4978, 11735, 14216, 14470, 38120, 51135, 64630, 67060, 73429, 99233]\n",
      "{4978: 1, 11735: 1, 14216: 1, 14470: 1, 38120: 1, 51135: 1, 64630: 1, 67060: 1, 73429: 1, 99233: 1}\n",
      "4978\n"
     ]
    }
   ],
   "source": [
    "print(f'{getmode(Xi)}')"
   ]
  },
  {
   "cell_type": "code",
   "execution_count": 46,
   "metadata": {},
   "outputs": [
    {
     "name": "stdout",
     "output_type": "stream",
     "text": [
      "4978\n"
     ]
    }
   ],
   "source": [
    "print(f'{getmode2(Xi)}')"
   ]
  },
  {
   "cell_type": "code",
   "execution_count": null,
   "metadata": {},
   "outputs": [],
   "source": []
  }
 ],
 "metadata": {
  "kernelspec": {
   "display_name": "Python 3",
   "language": "python",
   "name": "python3"
  },
  "language_info": {
   "codemirror_mode": {
    "name": "ipython",
    "version": 3
   },
   "file_extension": ".py",
   "mimetype": "text/x-python",
   "name": "python",
   "nbconvert_exporter": "python",
   "pygments_lexer": "ipython3",
   "version": "3.6.5"
  }
 },
 "nbformat": 4,
 "nbformat_minor": 2
}
