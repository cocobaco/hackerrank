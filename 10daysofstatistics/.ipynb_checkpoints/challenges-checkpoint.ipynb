{
 "cells": [
  {
   "cell_type": "markdown",
   "metadata": {},
   "source": [
    "# 10 Days of Statistics\n",
    "https://www.hackerrank.com/challenges/s10-basic-statistics\n",
    "\n",
    "start 11 Oct 2018"
   ]
  },
  {
   "cell_type": "markdown",
   "metadata": {},
   "source": [
    "## Day 0: Mean, Median, and Mode"
   ]
  },
  {
   "cell_type": "code",
   "execution_count": 1,
   "metadata": {},
   "outputs": [
    {
     "name": "stdout",
     "output_type": "stream",
     "text": [
      "10\n"
     ]
    }
   ],
   "source": [
    "N = int(input())\n",
    "while (N < 10 or N > 2500):\n",
    "    N = int(input())"
   ]
  },
  {
   "cell_type": "code",
   "execution_count": 57,
   "metadata": {},
   "outputs": [],
   "source": [
    "def getinputnumbers(N, min, max):\n",
    "    X = input()\n",
    "    while len(X.strip().split(' ')) != N:\n",
    "        print(f'input length does not equal {N}')\n",
    "        X = input()\n",
    "    Xi = [int(x) for x in X.strip().split()]\n",
    "    for x in Xi:\n",
    "        if x < min or x > max:\n",
    "            print('invalid element(s)')\n",
    "            getinputnumbers(N, min, max)\n",
    "    return Xi"
   ]
  },
  {
   "cell_type": "code",
   "execution_count": 20,
   "metadata": {},
   "outputs": [
    {
     "name": "stdout",
     "output_type": "stream",
     "text": [
      "64630 11735 14216 99233 14470 4978 73429 38120 51135 67060\n"
     ]
    }
   ],
   "source": [
    "Xi = getinputnumbers(N, 0, 1e5)"
   ]
  },
  {
   "cell_type": "code",
   "execution_count": 31,
   "metadata": {},
   "outputs": [],
   "source": [
    "def getmean(x):\n",
    "    return sum(x)/len(x)\n",
    "\n",
    "def getmedian(x):\n",
    "    x.sort()\n",
    "    n = len(x)\n",
    "    if n % 2 == 1:  # odd: get middle value (0 1 2 [3] 4 5 6)\n",
    "        return x[int((n-1)/2)]\n",
    "    else:  # even: get average of middle pair (0 1 [2 3] 4 5)\n",
    "        return (x[int(n/2-1)] + x[int(n/2)])/2.\n",
    "    \n",
    "def getmode(x):\n",
    "    counts = {}\n",
    "    x.sort()\n",
    "    x_set = set(x)\n",
    "    x_unique_sorted = sorted(list(x_set))\n",
    "    for xi in x_unique_sorted:\n",
    "        counts[xi] = x.count(xi)\n",
    "    print(counts)\n",
    "    v = list(counts.values())\n",
    "    k = list(counts.keys())\n",
    "    return k[v.index(max(v))]\n",
    "    # return max(counts, key=counts.get)\n",
    "    \n",
    "def getmode2(x):\n",
    "    return max(x, key = x.count)"
   ]
  },
  {
   "cell_type": "code",
   "execution_count": 41,
   "metadata": {},
   "outputs": [
    {
     "data": {
      "text/plain": [
       "[4978, 11735, 14216, 14470, 38120, 51135, 64630, 67060, 73429, 99233]"
      ]
     },
     "execution_count": 41,
     "metadata": {},
     "output_type": "execute_result"
    }
   ],
   "source": [
    "sorted(set(Xi))"
   ]
  },
  {
   "cell_type": "code",
   "execution_count": 42,
   "metadata": {},
   "outputs": [
    {
     "name": "stdout",
     "output_type": "stream",
     "text": [
      "[4978, 11735, 14216, 14470, 38120, 51135, 64630, 67060, 73429, 99233]\n",
      "{4978: 1, 11735: 1, 14216: 1, 14470: 1, 38120: 1, 51135: 1, 64630: 1, 67060: 1, 73429: 1, 99233: 1}\n"
     ]
    },
    {
     "data": {
      "text/plain": [
       "4978"
      ]
     },
     "execution_count": 42,
     "metadata": {},
     "output_type": "execute_result"
    }
   ],
   "source": [
    "getmode(Xi)"
   ]
  },
  {
   "cell_type": "code",
   "execution_count": 43,
   "metadata": {},
   "outputs": [
    {
     "name": "stdout",
     "output_type": "stream",
     "text": [
      "43900.6\n"
     ]
    }
   ],
   "source": [
    "print(f'{getmean(Xi):.1f}')"
   ]
  },
  {
   "cell_type": "code",
   "execution_count": 44,
   "metadata": {},
   "outputs": [
    {
     "name": "stdout",
     "output_type": "stream",
     "text": [
      "44627.5\n"
     ]
    }
   ],
   "source": [
    "print(f'{getmedian(Xi):.1f}')"
   ]
  },
  {
   "cell_type": "code",
   "execution_count": 45,
   "metadata": {},
   "outputs": [
    {
     "name": "stdout",
     "output_type": "stream",
     "text": [
      "[4978, 11735, 14216, 14470, 38120, 51135, 64630, 67060, 73429, 99233]\n",
      "{4978: 1, 11735: 1, 14216: 1, 14470: 1, 38120: 1, 51135: 1, 64630: 1, 67060: 1, 73429: 1, 99233: 1}\n",
      "4978\n"
     ]
    }
   ],
   "source": [
    "print(f'{getmode(Xi)}')"
   ]
  },
  {
   "cell_type": "code",
   "execution_count": 46,
   "metadata": {},
   "outputs": [
    {
     "name": "stdout",
     "output_type": "stream",
     "text": [
      "4978\n"
     ]
    }
   ],
   "source": [
    "print(f'{getmode2(Xi)}')"
   ]
  },
  {
   "cell_type": "markdown",
   "metadata": {},
   "source": [
    "## Day 0: Weighted Mean"
   ]
  },
  {
   "cell_type": "code",
   "execution_count": 1,
   "metadata": {},
   "outputs": [
    {
     "name": "stdout",
     "output_type": "stream",
     "text": [
      "5\n"
     ]
    }
   ],
   "source": [
    "N = int(input())"
   ]
  },
  {
   "cell_type": "code",
   "execution_count": 6,
   "metadata": {},
   "outputs": [
    {
     "name": "stdout",
     "output_type": "stream",
     "text": [
      "10 20 30 40 55\n"
     ]
    }
   ],
   "source": [
    "Xi = getinputnumbers(N, 1, 100)"
   ]
  },
  {
   "cell_type": "code",
   "execution_count": 7,
   "metadata": {},
   "outputs": [
    {
     "name": "stdout",
     "output_type": "stream",
     "text": [
      "1 2 3 4 5\n"
     ]
    }
   ],
   "source": [
    "wi = getinputnumbers(N, 1, 100)"
   ]
  },
  {
   "cell_type": "code",
   "execution_count": 8,
   "metadata": {},
   "outputs": [],
   "source": [
    "def getWgmean(x, w):\n",
    "    n = len(x)\n",
    "    weighted_sum = 0\n",
    "    for i in range(n):\n",
    "        weighted_sum += x[i] * w[i]\n",
    "    return weighted_sum / sum(w)"
   ]
  },
  {
   "cell_type": "code",
   "execution_count": 9,
   "metadata": {},
   "outputs": [
    {
     "data": {
      "text/plain": [
       "38.333333333333336"
      ]
     },
     "execution_count": 9,
     "metadata": {},
     "output_type": "execute_result"
    }
   ],
   "source": [
    "getWgmean(Xi, wi)"
   ]
  },
  {
   "cell_type": "markdown",
   "metadata": {},
   "source": [
    "## Day 1: Quartiles"
   ]
  },
  {
   "cell_type": "code",
   "execution_count": 27,
   "metadata": {},
   "outputs": [
    {
     "name": "stdout",
     "output_type": "stream",
     "text": [
      "5\n"
     ]
    }
   ],
   "source": [
    "N = int(input())\n",
    "while (N < 5 or N > 50):\n",
    "    N = int(input())"
   ]
  },
  {
   "cell_type": "code",
   "execution_count": 28,
   "metadata": {},
   "outputs": [
    {
     "name": "stdout",
     "output_type": "stream",
     "text": [
      "3 12 4 45 24\n"
     ]
    }
   ],
   "source": [
    "Xi = getinputnumbers(N, 1, 100)"
   ]
  },
  {
   "cell_type": "code",
   "execution_count": 51,
   "metadata": {},
   "outputs": [],
   "source": [
    "def getquartiles(x):\n",
    "    x.sort()\n",
    "    n = len(x)\n",
    "    q2 = getmedian(x)\n",
    "    if n % 2 == 1:  # odd: 0 1 2 3 4\n",
    "        low_half = x[:int((n-1)/2)]\n",
    "        upp_half = x[int((n-1)/2)+1:]\n",
    "    else:  # even: 0 1 2 3\n",
    "        low_half = x[:int(n/2)]\n",
    "        upp_half = x[int(n/2):]\n",
    "    q1 = getmedian(low_half)\n",
    "    q3 = getmedian(upp_half)\n",
    "    return q1, q2, q3"
   ]
  },
  {
   "cell_type": "code",
   "execution_count": 33,
   "metadata": {},
   "outputs": [
    {
     "data": {
      "text/plain": [
       "(3.5, 12, 34.5)"
      ]
     },
     "execution_count": 33,
     "metadata": {},
     "output_type": "execute_result"
    }
   ],
   "source": [
    "getquartiles(Xi)"
   ]
  },
  {
   "cell_type": "markdown",
   "metadata": {},
   "source": [
    "## Day 1: Interquartile Range"
   ]
  },
  {
   "cell_type": "code",
   "execution_count": 34,
   "metadata": {},
   "outputs": [
    {
     "name": "stdout",
     "output_type": "stream",
     "text": [
      "5\n"
     ]
    }
   ],
   "source": [
    "N = int(input())\n",
    "while (N < 5 or N > 50):\n",
    "    N = int(input())"
   ]
  },
  {
   "cell_type": "code",
   "execution_count": 42,
   "metadata": {},
   "outputs": [
    {
     "name": "stdout",
     "output_type": "stream",
     "text": [
      "10 40 30 50 20\n"
     ]
    }
   ],
   "source": [
    "Xi = getinputnumbers(N, 1, 100)"
   ]
  },
  {
   "cell_type": "code",
   "execution_count": 58,
   "metadata": {},
   "outputs": [],
   "source": [
    "def getinputnumbers_sum(N, min, max, summax):\n",
    "    X = input()\n",
    "    while len(X.strip().split(' ')) != N:\n",
    "        print(f'input length does not equal {N}')\n",
    "        X = input()\n",
    "    Xi = [int(x) for x in X.strip().split()]\n",
    "    if sum(Xi) > summax:\n",
    "        getinputnumbers_sum(N, min, max, summax)\n",
    "    for x in Xi:\n",
    "        if x < min or x > max:\n",
    "            print('invalid element(s)')\n",
    "            getinputnumbers_sum(N, min, max, summax)\n",
    "    return Xi"
   ]
  },
  {
   "cell_type": "code",
   "execution_count": 43,
   "metadata": {},
   "outputs": [
    {
     "name": "stdout",
     "output_type": "stream",
     "text": [
      "1 2 3 4 5\n"
     ]
    }
   ],
   "source": [
    "fi = getinputnumbers_sum(N, 0, 1000, 1000)"
   ]
  },
  {
   "cell_type": "code",
   "execution_count": 38,
   "metadata": {},
   "outputs": [
    {
     "data": {
      "text/plain": [
       "[1, 2, 3, 4]"
      ]
     },
     "execution_count": 38,
     "metadata": {},
     "output_type": "execute_result"
    }
   ],
   "source": [
    "[1, 2] + [3, 4]"
   ]
  },
  {
   "cell_type": "code",
   "execution_count": 44,
   "metadata": {},
   "outputs": [
    {
     "data": {
      "text/plain": [
       "[10, 40, 40, 30, 30, 30, 50, 50, 50, 50, 20, 20, 20, 20, 20]"
      ]
     },
     "execution_count": 44,
     "metadata": {},
     "output_type": "execute_result"
    }
   ],
   "source": [
    "S = []\n",
    "for i, x in enumerate(Xi):\n",
    "    S += [x] * fi[i]\n",
    "S"
   ]
  },
  {
   "cell_type": "code",
   "execution_count": 52,
   "metadata": {},
   "outputs": [],
   "source": [
    "q1, q2, q3 = getquartiles(S)"
   ]
  },
  {
   "cell_type": "code",
   "execution_count": 53,
   "metadata": {},
   "outputs": [
    {
     "data": {
      "text/plain": [
       "20"
      ]
     },
     "execution_count": 53,
     "metadata": {},
     "output_type": "execute_result"
    }
   ],
   "source": [
    "q1"
   ]
  },
  {
   "cell_type": "code",
   "execution_count": 54,
   "metadata": {},
   "outputs": [
    {
     "data": {
      "text/plain": [
       "50"
      ]
     },
     "execution_count": 54,
     "metadata": {},
     "output_type": "execute_result"
    }
   ],
   "source": [
    "q3"
   ]
  },
  {
   "cell_type": "code",
   "execution_count": 55,
   "metadata": {},
   "outputs": [
    {
     "data": {
      "text/plain": [
       "30"
      ]
     },
     "execution_count": 55,
     "metadata": {},
     "output_type": "execute_result"
    }
   ],
   "source": [
    "q3 - q1"
   ]
  },
  {
   "cell_type": "code",
   "execution_count": 56,
   "metadata": {},
   "outputs": [],
   "source": [
    "S.sort()"
   ]
  },
  {
   "cell_type": "code",
   "execution_count": 48,
   "metadata": {},
   "outputs": [
    {
     "data": {
      "text/plain": [
       "[10, 20, 20, 20, 20, 20, 30, 30, 30, 40, 40, 50, 50, 50, 50]"
      ]
     },
     "execution_count": 48,
     "metadata": {},
     "output_type": "execute_result"
    }
   ],
   "source": [
    "S"
   ]
  },
  {
   "cell_type": "code",
   "execution_count": null,
   "metadata": {},
   "outputs": [],
   "source": []
  }
 ],
 "metadata": {
  "kernelspec": {
   "display_name": "Python 3",
   "language": "python",
   "name": "python3"
  },
  "language_info": {
   "codemirror_mode": {
    "name": "ipython",
    "version": 3
   },
   "file_extension": ".py",
   "mimetype": "text/x-python",
   "name": "python",
   "nbconvert_exporter": "python",
   "pygments_lexer": "ipython3",
   "version": "3.6.5"
  }
 },
 "nbformat": 4,
 "nbformat_minor": 2
}
