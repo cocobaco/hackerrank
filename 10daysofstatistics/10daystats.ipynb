{
 "cells": [
  {
   "cell_type": "markdown",
   "metadata": {},
   "source": [
    "# 10 Days of Statistics\n",
    "https://www.hackerrank.com/challenges/s10-basic-statistics\n",
    "\n",
    "start 11 Oct 2018"
   ]
  },
  {
   "cell_type": "markdown",
   "metadata": {},
   "source": [
    "## Day 0: Mean, Median, and Mode"
   ]
  },
  {
   "cell_type": "code",
   "execution_count": 1,
   "metadata": {},
   "outputs": [
    {
     "name": "stdout",
     "output_type": "stream",
     "text": [
      "10\n"
     ]
    }
   ],
   "source": [
    "N = int(input())\n",
    "while (N < 10 or N > 2500):\n",
    "    N = int(input())"
   ]
  },
  {
   "cell_type": "code",
   "execution_count": 2,
   "metadata": {},
   "outputs": [],
   "source": [
    "def getinputnumbers(N, min, max):\n",
    "    X = input()\n",
    "    while len(X.strip().split(' ')) != N:\n",
    "        print(f'input length does not equal {N}')\n",
    "        X = input()\n",
    "    Xi = [int(x) for x in X.strip().split()]\n",
    "    for x in Xi:\n",
    "        if x < min or x > max:\n",
    "            print('invalid element(s)')\n",
    "            getinputnumbers(N, min, max)\n",
    "    return Xi"
   ]
  },
  {
   "cell_type": "code",
   "execution_count": 3,
   "metadata": {},
   "outputs": [
    {
     "name": "stdout",
     "output_type": "stream",
     "text": [
      "2 5 2 1 3 8 9 10 13 78\n"
     ]
    }
   ],
   "source": [
    "Xi = getinputnumbers(N, 0, 1e5)"
   ]
  },
  {
   "cell_type": "code",
   "execution_count": 4,
   "metadata": {},
   "outputs": [],
   "source": [
    "def getmean(x):\n",
    "    return sum(x)/len(x)\n",
    "\n",
    "def getmedian(x):\n",
    "    x.sort()\n",
    "    n = len(x)\n",
    "    if n % 2 == 1:  # odd: get middle value (0 1 2 [3] 4 5 6)\n",
    "        return x[int((n-1)/2)]\n",
    "    else:  # even: get average of middle pair (0 1 [2 3] 4 5)\n",
    "        return (x[int(n/2-1)] + x[int(n/2)])/2.\n",
    "    \n",
    "def getmode(x):\n",
    "    counts = {}\n",
    "    x.sort()\n",
    "    x_set = set(x)\n",
    "    x_unique_sorted = sorted(list(x_set))\n",
    "    for xi in x_unique_sorted:\n",
    "        counts[xi] = x.count(xi)\n",
    "    print(counts)\n",
    "    v = list(counts.values())\n",
    "    k = list(counts.keys())\n",
    "    return k[v.index(max(v))]\n",
    "    # return max(counts, key=counts.get)\n",
    "    \n",
    "def getmode2(x):\n",
    "    return max(x, key = x.count)"
   ]
  },
  {
   "cell_type": "code",
   "execution_count": 5,
   "metadata": {},
   "outputs": [
    {
     "data": {
      "text/plain": [
       "[1, 2, 3, 5, 8, 9, 10, 13, 78]"
      ]
     },
     "execution_count": 5,
     "metadata": {},
     "output_type": "execute_result"
    }
   ],
   "source": [
    "sorted(set(Xi))"
   ]
  },
  {
   "cell_type": "code",
   "execution_count": 6,
   "metadata": {},
   "outputs": [
    {
     "name": "stdout",
     "output_type": "stream",
     "text": [
      "{1: 1, 2: 2, 3: 1, 5: 1, 8: 1, 9: 1, 10: 1, 13: 1, 78: 1}\n"
     ]
    },
    {
     "data": {
      "text/plain": [
       "2"
      ]
     },
     "execution_count": 6,
     "metadata": {},
     "output_type": "execute_result"
    }
   ],
   "source": [
    "getmode(Xi)"
   ]
  },
  {
   "cell_type": "code",
   "execution_count": 7,
   "metadata": {},
   "outputs": [
    {
     "name": "stdout",
     "output_type": "stream",
     "text": [
      "13.1\n"
     ]
    }
   ],
   "source": [
    "print(f'{getmean(Xi):.1f}')"
   ]
  },
  {
   "cell_type": "code",
   "execution_count": 8,
   "metadata": {},
   "outputs": [
    {
     "name": "stdout",
     "output_type": "stream",
     "text": [
      "6.5\n"
     ]
    }
   ],
   "source": [
    "print(f'{getmedian(Xi):.1f}')"
   ]
  },
  {
   "cell_type": "code",
   "execution_count": 9,
   "metadata": {},
   "outputs": [
    {
     "name": "stdout",
     "output_type": "stream",
     "text": [
      "{1: 1, 2: 2, 3: 1, 5: 1, 8: 1, 9: 1, 10: 1, 13: 1, 78: 1}\n",
      "2\n"
     ]
    }
   ],
   "source": [
    "print(f'{getmode(Xi)}')"
   ]
  },
  {
   "cell_type": "code",
   "execution_count": 10,
   "metadata": {},
   "outputs": [
    {
     "name": "stdout",
     "output_type": "stream",
     "text": [
      "2\n"
     ]
    }
   ],
   "source": [
    "print(f'{getmode2(Xi)}')"
   ]
  },
  {
   "cell_type": "markdown",
   "metadata": {},
   "source": [
    "## Day 0: Weighted Mean"
   ]
  },
  {
   "cell_type": "code",
   "execution_count": 11,
   "metadata": {},
   "outputs": [
    {
     "name": "stdout",
     "output_type": "stream",
     "text": [
      "10\n"
     ]
    }
   ],
   "source": [
    "N = int(input())"
   ]
  },
  {
   "cell_type": "code",
   "execution_count": 12,
   "metadata": {},
   "outputs": [
    {
     "name": "stdout",
     "output_type": "stream",
     "text": [
      "5 2 4 2 56 2 24 13 2 7\n"
     ]
    }
   ],
   "source": [
    "Xi = getinputnumbers(N, 1, 100)"
   ]
  },
  {
   "cell_type": "code",
   "execution_count": 13,
   "metadata": {},
   "outputs": [
    {
     "name": "stdout",
     "output_type": "stream",
     "text": [
      "1 2 5 2 1 5 2 1 5 8\n"
     ]
    }
   ],
   "source": [
    "wi = getinputnumbers(N, 1, 100)"
   ]
  },
  {
   "cell_type": "code",
   "execution_count": 14,
   "metadata": {},
   "outputs": [],
   "source": [
    "def getWgmean(x, w):\n",
    "    n = len(x)\n",
    "    weighted_sum = 0\n",
    "    for i in range(n):\n",
    "        weighted_sum += x[i] * w[i]\n",
    "    return weighted_sum / sum(w)"
   ]
  },
  {
   "cell_type": "code",
   "execution_count": 15,
   "metadata": {},
   "outputs": [
    {
     "data": {
      "text/plain": [
       "7.0625"
      ]
     },
     "execution_count": 15,
     "metadata": {},
     "output_type": "execute_result"
    }
   ],
   "source": [
    "getWgmean(Xi, wi)"
   ]
  },
  {
   "cell_type": "markdown",
   "metadata": {},
   "source": [
    "## Day 1: Quartiles"
   ]
  },
  {
   "cell_type": "code",
   "execution_count": 16,
   "metadata": {},
   "outputs": [
    {
     "name": "stdout",
     "output_type": "stream",
     "text": [
      "5\n"
     ]
    }
   ],
   "source": [
    "N = int(input())\n",
    "while (N < 5 or N > 50):\n",
    "    N = int(input())"
   ]
  },
  {
   "cell_type": "code",
   "execution_count": 17,
   "metadata": {},
   "outputs": [
    {
     "name": "stdout",
     "output_type": "stream",
     "text": [
      "23 42 12 9 7\n"
     ]
    }
   ],
   "source": [
    "Xi = getinputnumbers(N, 1, 100)"
   ]
  },
  {
   "cell_type": "code",
   "execution_count": 18,
   "metadata": {},
   "outputs": [],
   "source": [
    "def getquartiles(x):\n",
    "    x.sort()\n",
    "    n = len(x)\n",
    "    q2 = getmedian(x)\n",
    "    if n % 2 == 1:  # odd: 0 1 2 3 4\n",
    "        low_half = x[:int((n-1)/2)]\n",
    "        upp_half = x[int((n-1)/2)+1:]\n",
    "    else:  # even: 0 1 2 3\n",
    "        low_half = x[:int(n/2)]\n",
    "        upp_half = x[int(n/2):]\n",
    "    q1 = getmedian(low_half)\n",
    "    q3 = getmedian(upp_half)\n",
    "    return q1, q2, q3"
   ]
  },
  {
   "cell_type": "code",
   "execution_count": 19,
   "metadata": {},
   "outputs": [
    {
     "data": {
      "text/plain": [
       "(8.0, 12, 32.5)"
      ]
     },
     "execution_count": 19,
     "metadata": {},
     "output_type": "execute_result"
    }
   ],
   "source": [
    "getquartiles(Xi)"
   ]
  },
  {
   "cell_type": "markdown",
   "metadata": {},
   "source": [
    "## Day 1: Interquartile Range"
   ]
  },
  {
   "cell_type": "code",
   "execution_count": 20,
   "metadata": {},
   "outputs": [
    {
     "name": "stdout",
     "output_type": "stream",
     "text": [
      "10\n"
     ]
    }
   ],
   "source": [
    "N = int(input())\n",
    "while (N < 5 or N > 50):\n",
    "    N = int(input())"
   ]
  },
  {
   "cell_type": "code",
   "execution_count": 21,
   "metadata": {},
   "outputs": [
    {
     "name": "stdout",
     "output_type": "stream",
     "text": [
      "42 24 10 8 5 4 23 8 17\n",
      "input length does not equal 10\n",
      "42 33 44 99 77 24 19 49 50 28\n"
     ]
    }
   ],
   "source": [
    "Xi = getinputnumbers(N, 1, 100)"
   ]
  },
  {
   "cell_type": "code",
   "execution_count": 22,
   "metadata": {},
   "outputs": [],
   "source": [
    "def getinputnumbers_sum(N, min, max, summax):\n",
    "    X = input()\n",
    "    while len(X.strip().split(' ')) != N:\n",
    "        print(f'input length does not equal {N}')\n",
    "        X = input()\n",
    "    Xi = [int(x) for x in X.strip().split()]\n",
    "    if sum(Xi) > summax:\n",
    "        getinputnumbers_sum(N, min, max, summax)\n",
    "    for x in Xi:\n",
    "        if x < min or x > max:\n",
    "            print('invalid element(s)')\n",
    "            getinputnumbers_sum(N, min, max, summax)\n",
    "    return Xi"
   ]
  },
  {
   "cell_type": "code",
   "execution_count": 23,
   "metadata": {},
   "outputs": [
    {
     "name": "stdout",
     "output_type": "stream",
     "text": [
      "42 33 44 99 77 24 19 49 50 28\n"
     ]
    }
   ],
   "source": [
    "fi = getinputnumbers_sum(N, 0, 1000, 1000)"
   ]
  },
  {
   "cell_type": "code",
   "execution_count": 24,
   "metadata": {},
   "outputs": [
    {
     "data": {
      "text/plain": [
       "[1, 2, 3, 4]"
      ]
     },
     "execution_count": 24,
     "metadata": {},
     "output_type": "execute_result"
    }
   ],
   "source": [
    "[1, 2] + [3, 4]"
   ]
  },
  {
   "cell_type": "code",
   "execution_count": 25,
   "metadata": {},
   "outputs": [
    {
     "data": {
      "text/plain": [
       "[42,\n",
       " 42,\n",
       " 42,\n",
       " 42,\n",
       " 42,\n",
       " 42,\n",
       " 42,\n",
       " 42,\n",
       " 42,\n",
       " 42,\n",
       " 42,\n",
       " 42,\n",
       " 42,\n",
       " 42,\n",
       " 42,\n",
       " 42,\n",
       " 42,\n",
       " 42,\n",
       " 42,\n",
       " 42,\n",
       " 42,\n",
       " 42,\n",
       " 42,\n",
       " 42,\n",
       " 42,\n",
       " 42,\n",
       " 42,\n",
       " 42,\n",
       " 42,\n",
       " 42,\n",
       " 42,\n",
       " 42,\n",
       " 42,\n",
       " 42,\n",
       " 42,\n",
       " 42,\n",
       " 42,\n",
       " 42,\n",
       " 42,\n",
       " 42,\n",
       " 42,\n",
       " 42,\n",
       " 33,\n",
       " 33,\n",
       " 33,\n",
       " 33,\n",
       " 33,\n",
       " 33,\n",
       " 33,\n",
       " 33,\n",
       " 33,\n",
       " 33,\n",
       " 33,\n",
       " 33,\n",
       " 33,\n",
       " 33,\n",
       " 33,\n",
       " 33,\n",
       " 33,\n",
       " 33,\n",
       " 33,\n",
       " 33,\n",
       " 33,\n",
       " 33,\n",
       " 33,\n",
       " 33,\n",
       " 33,\n",
       " 33,\n",
       " 33,\n",
       " 33,\n",
       " 33,\n",
       " 33,\n",
       " 33,\n",
       " 33,\n",
       " 33,\n",
       " 44,\n",
       " 44,\n",
       " 44,\n",
       " 44,\n",
       " 44,\n",
       " 44,\n",
       " 44,\n",
       " 44,\n",
       " 44,\n",
       " 44,\n",
       " 44,\n",
       " 44,\n",
       " 44,\n",
       " 44,\n",
       " 44,\n",
       " 44,\n",
       " 44,\n",
       " 44,\n",
       " 44,\n",
       " 44,\n",
       " 44,\n",
       " 44,\n",
       " 44,\n",
       " 44,\n",
       " 44,\n",
       " 44,\n",
       " 44,\n",
       " 44,\n",
       " 44,\n",
       " 44,\n",
       " 44,\n",
       " 44,\n",
       " 44,\n",
       " 44,\n",
       " 44,\n",
       " 44,\n",
       " 44,\n",
       " 44,\n",
       " 44,\n",
       " 44,\n",
       " 44,\n",
       " 44,\n",
       " 44,\n",
       " 44,\n",
       " 99,\n",
       " 99,\n",
       " 99,\n",
       " 99,\n",
       " 99,\n",
       " 99,\n",
       " 99,\n",
       " 99,\n",
       " 99,\n",
       " 99,\n",
       " 99,\n",
       " 99,\n",
       " 99,\n",
       " 99,\n",
       " 99,\n",
       " 99,\n",
       " 99,\n",
       " 99,\n",
       " 99,\n",
       " 99,\n",
       " 99,\n",
       " 99,\n",
       " 99,\n",
       " 99,\n",
       " 99,\n",
       " 99,\n",
       " 99,\n",
       " 99,\n",
       " 99,\n",
       " 99,\n",
       " 99,\n",
       " 99,\n",
       " 99,\n",
       " 99,\n",
       " 99,\n",
       " 99,\n",
       " 99,\n",
       " 99,\n",
       " 99,\n",
       " 99,\n",
       " 99,\n",
       " 99,\n",
       " 99,\n",
       " 99,\n",
       " 99,\n",
       " 99,\n",
       " 99,\n",
       " 99,\n",
       " 99,\n",
       " 99,\n",
       " 99,\n",
       " 99,\n",
       " 99,\n",
       " 99,\n",
       " 99,\n",
       " 99,\n",
       " 99,\n",
       " 99,\n",
       " 99,\n",
       " 99,\n",
       " 99,\n",
       " 99,\n",
       " 99,\n",
       " 99,\n",
       " 99,\n",
       " 99,\n",
       " 99,\n",
       " 99,\n",
       " 99,\n",
       " 99,\n",
       " 99,\n",
       " 99,\n",
       " 99,\n",
       " 99,\n",
       " 99,\n",
       " 99,\n",
       " 99,\n",
       " 99,\n",
       " 99,\n",
       " 99,\n",
       " 99,\n",
       " 99,\n",
       " 99,\n",
       " 99,\n",
       " 99,\n",
       " 99,\n",
       " 99,\n",
       " 99,\n",
       " 99,\n",
       " 99,\n",
       " 99,\n",
       " 99,\n",
       " 99,\n",
       " 99,\n",
       " 99,\n",
       " 99,\n",
       " 99,\n",
       " 99,\n",
       " 99,\n",
       " 77,\n",
       " 77,\n",
       " 77,\n",
       " 77,\n",
       " 77,\n",
       " 77,\n",
       " 77,\n",
       " 77,\n",
       " 77,\n",
       " 77,\n",
       " 77,\n",
       " 77,\n",
       " 77,\n",
       " 77,\n",
       " 77,\n",
       " 77,\n",
       " 77,\n",
       " 77,\n",
       " 77,\n",
       " 77,\n",
       " 77,\n",
       " 77,\n",
       " 77,\n",
       " 77,\n",
       " 77,\n",
       " 77,\n",
       " 77,\n",
       " 77,\n",
       " 77,\n",
       " 77,\n",
       " 77,\n",
       " 77,\n",
       " 77,\n",
       " 77,\n",
       " 77,\n",
       " 77,\n",
       " 77,\n",
       " 77,\n",
       " 77,\n",
       " 77,\n",
       " 77,\n",
       " 77,\n",
       " 77,\n",
       " 77,\n",
       " 77,\n",
       " 77,\n",
       " 77,\n",
       " 77,\n",
       " 77,\n",
       " 77,\n",
       " 77,\n",
       " 77,\n",
       " 77,\n",
       " 77,\n",
       " 77,\n",
       " 77,\n",
       " 77,\n",
       " 77,\n",
       " 77,\n",
       " 77,\n",
       " 77,\n",
       " 77,\n",
       " 77,\n",
       " 77,\n",
       " 77,\n",
       " 77,\n",
       " 77,\n",
       " 77,\n",
       " 77,\n",
       " 77,\n",
       " 77,\n",
       " 77,\n",
       " 77,\n",
       " 77,\n",
       " 77,\n",
       " 77,\n",
       " 77,\n",
       " 24,\n",
       " 24,\n",
       " 24,\n",
       " 24,\n",
       " 24,\n",
       " 24,\n",
       " 24,\n",
       " 24,\n",
       " 24,\n",
       " 24,\n",
       " 24,\n",
       " 24,\n",
       " 24,\n",
       " 24,\n",
       " 24,\n",
       " 24,\n",
       " 24,\n",
       " 24,\n",
       " 24,\n",
       " 24,\n",
       " 24,\n",
       " 24,\n",
       " 24,\n",
       " 24,\n",
       " 19,\n",
       " 19,\n",
       " 19,\n",
       " 19,\n",
       " 19,\n",
       " 19,\n",
       " 19,\n",
       " 19,\n",
       " 19,\n",
       " 19,\n",
       " 19,\n",
       " 19,\n",
       " 19,\n",
       " 19,\n",
       " 19,\n",
       " 19,\n",
       " 19,\n",
       " 19,\n",
       " 19,\n",
       " 49,\n",
       " 49,\n",
       " 49,\n",
       " 49,\n",
       " 49,\n",
       " 49,\n",
       " 49,\n",
       " 49,\n",
       " 49,\n",
       " 49,\n",
       " 49,\n",
       " 49,\n",
       " 49,\n",
       " 49,\n",
       " 49,\n",
       " 49,\n",
       " 49,\n",
       " 49,\n",
       " 49,\n",
       " 49,\n",
       " 49,\n",
       " 49,\n",
       " 49,\n",
       " 49,\n",
       " 49,\n",
       " 49,\n",
       " 49,\n",
       " 49,\n",
       " 49,\n",
       " 49,\n",
       " 49,\n",
       " 49,\n",
       " 49,\n",
       " 49,\n",
       " 49,\n",
       " 49,\n",
       " 49,\n",
       " 49,\n",
       " 49,\n",
       " 49,\n",
       " 49,\n",
       " 49,\n",
       " 49,\n",
       " 49,\n",
       " 49,\n",
       " 49,\n",
       " 49,\n",
       " 49,\n",
       " 49,\n",
       " 50,\n",
       " 50,\n",
       " 50,\n",
       " 50,\n",
       " 50,\n",
       " 50,\n",
       " 50,\n",
       " 50,\n",
       " 50,\n",
       " 50,\n",
       " 50,\n",
       " 50,\n",
       " 50,\n",
       " 50,\n",
       " 50,\n",
       " 50,\n",
       " 50,\n",
       " 50,\n",
       " 50,\n",
       " 50,\n",
       " 50,\n",
       " 50,\n",
       " 50,\n",
       " 50,\n",
       " 50,\n",
       " 50,\n",
       " 50,\n",
       " 50,\n",
       " 50,\n",
       " 50,\n",
       " 50,\n",
       " 50,\n",
       " 50,\n",
       " 50,\n",
       " 50,\n",
       " 50,\n",
       " 50,\n",
       " 50,\n",
       " 50,\n",
       " 50,\n",
       " 50,\n",
       " 50,\n",
       " 50,\n",
       " 50,\n",
       " 50,\n",
       " 50,\n",
       " 50,\n",
       " 50,\n",
       " 50,\n",
       " 50,\n",
       " 28,\n",
       " 28,\n",
       " 28,\n",
       " 28,\n",
       " 28,\n",
       " 28,\n",
       " 28,\n",
       " 28,\n",
       " 28,\n",
       " 28,\n",
       " 28,\n",
       " 28,\n",
       " 28,\n",
       " 28,\n",
       " 28,\n",
       " 28,\n",
       " 28,\n",
       " 28,\n",
       " 28,\n",
       " 28,\n",
       " 28,\n",
       " 28,\n",
       " 28,\n",
       " 28,\n",
       " 28,\n",
       " 28,\n",
       " 28,\n",
       " 28]"
      ]
     },
     "execution_count": 25,
     "metadata": {},
     "output_type": "execute_result"
    }
   ],
   "source": [
    "S = []\n",
    "for i, x in enumerate(Xi):\n",
    "    S += [x] * fi[i]"
   ]
  },
  {
   "cell_type": "code",
   "execution_count": 26,
   "metadata": {},
   "outputs": [],
   "source": [
    "q1, q2, q3 = getquartiles(S)"
   ]
  },
  {
   "cell_type": "code",
   "execution_count": 27,
   "metadata": {},
   "outputs": [
    {
     "data": {
      "text/plain": [
       "42.0"
      ]
     },
     "execution_count": 27,
     "metadata": {},
     "output_type": "execute_result"
    }
   ],
   "source": [
    "q1"
   ]
  },
  {
   "cell_type": "code",
   "execution_count": 28,
   "metadata": {},
   "outputs": [
    {
     "data": {
      "text/plain": [
       "77.0"
      ]
     },
     "execution_count": 28,
     "metadata": {},
     "output_type": "execute_result"
    }
   ],
   "source": [
    "q3"
   ]
  },
  {
   "cell_type": "code",
   "execution_count": 29,
   "metadata": {},
   "outputs": [
    {
     "data": {
      "text/plain": [
       "35.0"
      ]
     },
     "execution_count": 29,
     "metadata": {},
     "output_type": "execute_result"
    }
   ],
   "source": [
    "q3 - q1"
   ]
  },
  {
   "cell_type": "markdown",
   "metadata": {},
   "source": [
    "## Day 1: Standard Deviation"
   ]
  },
  {
   "cell_type": "code",
   "execution_count": 30,
   "metadata": {},
   "outputs": [
    {
     "name": "stdout",
     "output_type": "stream",
     "text": [
      "10\n"
     ]
    }
   ],
   "source": [
    "N = int(input())\n",
    "while N not in range(5, 101):\n",
    "    N = int(input())"
   ]
  },
  {
   "cell_type": "code",
   "execution_count": 31,
   "metadata": {},
   "outputs": [
    {
     "name": "stdout",
     "output_type": "stream",
     "text": [
      "42 33 44 99 77 24 19 49 50 28\n"
     ]
    }
   ],
   "source": [
    "Xi = getinputnumbers(N, 1, 100000)"
   ]
  },
  {
   "cell_type": "code",
   "execution_count": 32,
   "metadata": {},
   "outputs": [],
   "source": [
    "import math\n",
    "\n",
    "def getstd(x):\n",
    "    sumsq = 0.\n",
    "    for xi in x:\n",
    "        sumsq += (xi - getmean(x))**2\n",
    "    return math.sqrt(sumsq/len(x))"
   ]
  },
  {
   "cell_type": "code",
   "execution_count": 33,
   "metadata": {},
   "outputs": [
    {
     "name": "stdout",
     "output_type": "stream",
     "text": [
      "23.5\n"
     ]
    }
   ],
   "source": [
    "print('{:.1f}'.format(getstd(Xi)))"
   ]
  },
  {
   "cell_type": "markdown",
   "metadata": {},
   "source": [
    "## Day 2: Basic Probability\n",
    "https://www.hackerrank.com/challenges/s10-mcq-1/problem"
   ]
  },
  {
   "cell_type": "code",
   "execution_count": 34,
   "metadata": {},
   "outputs": [
    {
     "name": "stdout",
     "output_type": "stream",
     "text": [
      "sum of 1 and 1 = 2\n",
      "sum of 1 and 2 = 3\n",
      "sum of 1 and 3 = 4\n",
      "sum of 1 and 4 = 5\n",
      "sum of 1 and 5 = 6\n",
      "sum of 1 and 6 = 7\n",
      "sum of 2 and 1 = 3\n",
      "sum of 2 and 2 = 4\n",
      "sum of 2 and 3 = 5\n",
      "sum of 2 and 4 = 6\n",
      "sum of 2 and 5 = 7\n",
      "sum of 2 and 6 = 8\n",
      "sum of 3 and 1 = 4\n",
      "sum of 3 and 2 = 5\n",
      "sum of 3 and 3 = 6\n",
      "sum of 3 and 4 = 7\n",
      "sum of 3 and 5 = 8\n",
      "sum of 3 and 6 = 9\n",
      "sum of 4 and 1 = 5\n",
      "sum of 4 and 2 = 6\n",
      "sum of 4 and 3 = 7\n",
      "sum of 4 and 4 = 8\n",
      "sum of 4 and 5 = 9\n",
      "sum of 4 and 6 = 10\n",
      "sum of 5 and 1 = 6\n",
      "sum of 5 and 2 = 7\n",
      "sum of 5 and 3 = 8\n",
      "sum of 5 and 4 = 9\n",
      "sum of 5 and 5 = 10\n",
      "sum of 5 and 6 = 11\n",
      "sum of 6 and 1 = 7\n",
      "sum of 6 and 2 = 8\n",
      "sum of 6 and 3 = 9\n",
      "sum of 6 and 4 = 10\n",
      "sum of 6 and 5 = 11\n",
      "sum of 6 and 6 = 12\n",
      "--- summary ---\n",
      "sum at most 9 = 30\n",
      "total cases = 36\n"
     ]
    }
   ],
   "source": [
    "die_values = list(range(1, 7))\n",
    "die1 = die_values\n",
    "die2 = die_values\n",
    "sum_atmost_9 = 0\n",
    "total_cases = 0\n",
    "for d1 in die1:\n",
    "    for d2 in die2:\n",
    "        print('sum of {} and {} = {}'.format(d1, d2, d1+d2))\n",
    "        total_cases += 1\n",
    "        if d1+d2 <= 9:\n",
    "            sum_atmost_9 += 1\n",
    "print('--- summary ---')\n",
    "print('sum at most 9 = {}'.format(sum_atmost_9))\n",
    "print('total cases = {}'.format(total_cases))"
   ]
  },
  {
   "cell_type": "markdown",
   "metadata": {},
   "source": [
    "## Day 2: Compound Event Probability\n",
    "https://www.hackerrank.com/challenges/s10-mcq-3/problem"
   ]
  },
  {
   "cell_type": "code",
   "execution_count": 35,
   "metadata": {},
   "outputs": [],
   "source": [
    "import random"
   ]
  },
  {
   "cell_type": "code",
   "execution_count": 36,
   "metadata": {},
   "outputs": [
    {
     "data": {
      "text/plain": [
       "['b', 'b', 'r']"
      ]
     },
     "execution_count": 36,
     "metadata": {},
     "output_type": "execute_result"
    }
   ],
   "source": [
    "X = ['r'] * 4 + ['b'] * 3\n",
    "Y = ['r'] * 5 + ['b'] * 4\n",
    "Z = ['r'] * 4 + ['b'] * 4\n",
    "\n",
    "picks = []\n",
    "picks.append(random.sample(X, 1)[0])\n",
    "picks.append(random.sample(Y, 1)[0])\n",
    "picks.append(random.sample(Z, 1)[0])\n",
    "picks"
   ]
  },
  {
   "cell_type": "code",
   "execution_count": 37,
   "metadata": {},
   "outputs": [
    {
     "name": "stdout",
     "output_type": "stream",
     "text": [
      "---summary---\n",
      "picks with 2r 1b = 204\n",
      "total possible picks = 504\n",
      "percent = 40.48\n"
     ]
    }
   ],
   "source": [
    "possible_picks = []\n",
    "picks_with_2r1b = 0\n",
    "for x in X:\n",
    "    for y in Y:\n",
    "        for z in Z:\n",
    "            possible_picks.append([x, y, z])\n",
    "total_possible_picks = len(possible_picks)\n",
    "\n",
    "for p in possible_picks:\n",
    "    if p.count('r') == 2 and p.count('b') == 1:\n",
    "        picks_with_2r1b += 1\n",
    "\n",
    "print('---summary---')\n",
    "print('picks with 2r 1b = {}'.format(picks_with_2r1b))\n",
    "print('total possible picks = {}'.format(total_possible_picks))\n",
    "print('percent = {:.2f}'.format(100. * picks_with_2r1b / total_possible_picks))"
   ]
  },
  {
   "cell_type": "code",
   "execution_count": 38,
   "metadata": {},
   "outputs": [],
   "source": [
    "# simplify fraction\n",
    "from fractions import Fraction"
   ]
  },
  {
   "cell_type": "code",
   "execution_count": 39,
   "metadata": {},
   "outputs": [
    {
     "data": {
      "text/plain": [
       "Fraction(17, 42)"
      ]
     },
     "execution_count": 39,
     "metadata": {},
     "output_type": "execute_result"
    }
   ],
   "source": [
    "Fraction(picks_with_2r1b, total_possible_picks)"
   ]
  },
  {
   "cell_type": "markdown",
   "metadata": {},
   "source": [
    "## Day 3: Drawing Marbles\n",
    "https://www.hackerrank.com/challenges/s10-mcq-6/problem"
   ]
  },
  {
   "cell_type": "code",
   "execution_count": 40,
   "metadata": {},
   "outputs": [
    {
     "data": {
      "text/plain": [
       "['red', 'blue']"
      ]
     },
     "execution_count": 40,
     "metadata": {},
     "output_type": "execute_result"
    }
   ],
   "source": [
    "bag = ['red'] * 3 + ['blue'] * 4\n",
    "bag\n",
    "random.sample(bag, 2)"
   ]
  },
  {
   "cell_type": "code",
   "execution_count": 41,
   "metadata": {},
   "outputs": [
    {
     "data": {
      "text/plain": [
       "['red', 'red', 'blue', 'blue', 'blue', 'blue']"
      ]
     },
     "execution_count": 41,
     "metadata": {},
     "output_type": "execute_result"
    }
   ],
   "source": [
    "bag.remove('red')\n",
    "bag"
   ]
  },
  {
   "cell_type": "code",
   "execution_count": 42,
   "metadata": {},
   "outputs": [
    {
     "name": "stdout",
     "output_type": "stream",
     "text": [
      "0.6666666666666666\n",
      "2/3\n"
     ]
    }
   ],
   "source": [
    "probab_blue = bag.count('blue') / len(bag)\n",
    "print(probab_blue)\n",
    "print(Fraction(bag.count('blue'), len(bag)))"
   ]
  },
  {
   "cell_type": "markdown",
   "metadata": {},
   "source": [
    "## Day 3: Cards of the Same Suit\n",
    "https://www.hackerrank.com/challenges/s10-mcq-5/problem"
   ]
  },
  {
   "cell_type": "code",
   "execution_count": 43,
   "metadata": {},
   "outputs": [
    {
     "name": "stdout",
     "output_type": "stream",
     "text": [
      "there are 52 cards.\n"
     ]
    },
    {
     "data": {
      "text/plain": [
       "[(6, 'spade'), (7, 'club')]"
      ]
     },
     "execution_count": 43,
     "metadata": {},
     "output_type": "execute_result"
    }
   ],
   "source": [
    "suits = ['club', 'diamond', 'heart', 'spade']\n",
    "ranks = list(range(2, 11))\n",
    "ranks.extend(['J', 'Q', 'K', 'A'])\n",
    "deck = []\n",
    "for r in ranks:\n",
    "    for s in suits:\n",
    "        deck.append((r, s))\n",
    "print(f'there are {len(deck)} cards.')\n",
    "two_cards = random.sample(deck, 2)\n",
    "two_cards"
   ]
  },
  {
   "cell_type": "code",
   "execution_count": 44,
   "metadata": {},
   "outputs": [
    {
     "data": {
      "text/plain": [
       "51"
      ]
     },
     "execution_count": 44,
     "metadata": {},
     "output_type": "execute_result"
    }
   ],
   "source": [
    "len([c for c in deck if c != (4, 'diamond')])"
   ]
  },
  {
   "cell_type": "code",
   "execution_count": 45,
   "metadata": {},
   "outputs": [
    {
     "data": {
      "text/plain": [
       "2652"
      ]
     },
     "execution_count": 45,
     "metadata": {},
     "output_type": "execute_result"
    }
   ],
   "source": [
    "52*51"
   ]
  },
  {
   "cell_type": "code",
   "execution_count": 46,
   "metadata": {},
   "outputs": [
    {
     "data": {
      "text/plain": [
       "624"
      ]
     },
     "execution_count": 46,
     "metadata": {},
     "output_type": "execute_result"
    }
   ],
   "source": [
    "4*13*12"
   ]
  },
  {
   "cell_type": "code",
   "execution_count": 47,
   "metadata": {},
   "outputs": [
    {
     "name": "stdout",
     "output_type": "stream",
     "text": [
      "---summary---\n",
      "there are 2652 possible hands.\n",
      "there are 624 hands with same suit.\n",
      "4/17\n"
     ]
    }
   ],
   "source": [
    "possible_hands = []\n",
    "samesuit_count = 0\n",
    "for card1 in deck:\n",
    "    #print(card1)\n",
    "    remaining_deck = [c for c in deck if not (c == card1)]\n",
    "    for card2 in remaining_deck:\n",
    "        possible_hands.append((card1, card2))\n",
    "        if (card1[1] == card2[1]):\n",
    "            samesuit_count += 1\n",
    "\n",
    "print('---summary---')\n",
    "print(f'there are {len(possible_hands)} possible hands.')\n",
    "print(f'there are {samesuit_count} hands with same suit.')\n",
    "print(Fraction(samesuit_count, len(possible_hands)))"
   ]
  },
  {
   "cell_type": "markdown",
   "metadata": {},
   "source": [
    "## Day 4: Binomial Distribution I\n",
    "https://www.hackerrank.com/challenges/s10-binomial-distribution-1/problem"
   ]
  },
  {
   "cell_type": "code",
   "execution_count": 49,
   "metadata": {},
   "outputs": [
    {
     "name": "stdout",
     "output_type": "stream",
     "text": [
      "1.3 1\n"
     ]
    }
   ],
   "source": [
    "while True:\n",
    "    ratio_bg, child_per_birth = list(map(float, input().strip().split()))\n",
    "    if ratio_bg > 0.0 and child_per_birth > 0.0:\n",
    "        break"
   ]
  },
  {
   "cell_type": "code",
   "execution_count": 50,
   "metadata": {},
   "outputs": [
    {
     "data": {
      "text/plain": [
       "(0.5652173913043479, 0.4347826086956522)"
      ]
     },
     "execution_count": 50,
     "metadata": {},
     "output_type": "execute_result"
    }
   ],
   "source": [
    "prob_boy = ratio_bg / (1. + ratio_bg)\n",
    "prob_grl = 1. / (1. + ratio_bg)\n",
    "prob_boy, prob_grl"
   ]
  },
  {
   "cell_type": "code",
   "execution_count": 51,
   "metadata": {},
   "outputs": [],
   "source": [
    "# prob_3b3g = (6 choose 3) * (pboy)**3 * (pgrl)**3 = (6!/(3! 3!)) * (pboy)**3 * (pgrl)**3\n",
    "def factorial(x):\n",
    "    if x == 0:\n",
    "        return 1\n",
    "    else:\n",
    "        ans = x\n",
    "        while x > 1:\n",
    "            ans = ans * (x-1)\n",
    "            x -= 1\n",
    "    return ans"
   ]
  },
  {
   "cell_type": "code",
   "execution_count": 52,
   "metadata": {},
   "outputs": [
    {
     "data": {
      "text/plain": [
       "(24, 120, 2, 1)"
      ]
     },
     "execution_count": 52,
     "metadata": {},
     "output_type": "execute_result"
    }
   ],
   "source": [
    "factorial(4), factorial(5), factorial(2), factorial(0)"
   ]
  },
  {
   "cell_type": "code",
   "execution_count": 53,
   "metadata": {},
   "outputs": [
    {
     "name": "stdout",
     "output_type": "stream",
     "text": [
      "0.297\n"
     ]
    }
   ],
   "source": [
    "def prob_bg(b, g, pb, pg):\n",
    "    ans = (factorial(b + g)/(factorial(b) * factorial(g))) * (pb**b) * (pg**g)\n",
    "    return ans\n",
    "\n",
    "prob_3b3g = prob_bg(3, 3, prob_boy, prob_grl)\n",
    "print('{:.3f}'.format(prob_3b3g))"
   ]
  },
  {
   "cell_type": "code",
   "execution_count": 54,
   "metadata": {},
   "outputs": [
    {
     "name": "stdout",
     "output_type": "stream",
     "text": [
      "0.769\n"
     ]
    }
   ],
   "source": [
    "#prob_atleast_3b = prob3b3g + prob4b2g + prob5b1g + prob6b1g\n",
    "prob_atleast_3b = prob_bg(3, 3, prob_boy, prob_grl) + prob_bg(4, 2, prob_boy, prob_grl) + \\\n",
    "                    prob_bg(5, 1, prob_boy, prob_grl) + prob_bg(6, 0, prob_boy, prob_grl)\n",
    "print('{:.3f}'.format(prob_atleast_3b))"
   ]
  },
  {
   "cell_type": "markdown",
   "metadata": {},
   "source": [
    "## Day 4: Binomial Distribution II\n",
    "https://www.hackerrank.com/challenges/s10-binomial-distribution-2/problem"
   ]
  },
  {
   "cell_type": "code",
   "execution_count": 58,
   "metadata": {},
   "outputs": [
    {
     "name": "stdout",
     "output_type": "stream",
     "text": [
      "12 10\n",
      "reject rate = 0.12\n",
      "batch = 10\n"
     ]
    }
   ],
   "source": [
    "while True:\n",
    "    reject_pct, batch = list(map(int, input().split()))\n",
    "    reject_rate = float(reject_pct/100.)\n",
    "    if reject_rate <= 100. and reject_rate >= 0. and batch > 0:\n",
    "        break\n",
    "print('reject rate = {}'.format(reject_rate))\n",
    "print('batch = {}'.format(batch))"
   ]
  },
  {
   "cell_type": "code",
   "execution_count": 59,
   "metadata": {},
   "outputs": [],
   "source": [
    "def prob_binomial(n, x, px):\n",
    "    ans = (factorial(n)/(factorial(x) * factorial(n-x))) * (px**x) * ((1-px)**(n-x))\n",
    "    return ans"
   ]
  },
  {
   "cell_type": "code",
   "execution_count": 60,
   "metadata": {},
   "outputs": [
    {
     "name": "stdout",
     "output_type": "stream",
     "text": [
      "0.891\n",
      "0.342\n"
     ]
    }
   ],
   "source": [
    "p_leq2 = 0\n",
    "p_geq2 = 0\n",
    "# 10 samples:\n",
    "# no more than 2 rejects: x = 0, 1, 2\n",
    "# at least 2 rejects: x = 2, 3, .., 10\n",
    "for i in range(0, 3):\n",
    "    p_leq2 += prob_binomial(batch, i, reject_rate)\n",
    "for i in range(2, 11):\n",
    "    p_geq2 += prob_binomial(batch, i, reject_rate)\n",
    "print('{:.3f}'.format(p_leq2))\n",
    "print('{:.3f}'.format(p_geq2))"
   ]
  },
  {
   "cell_type": "markdown",
   "metadata": {},
   "source": [
    "## Day 4: Geometric Distribution I\n",
    "https://www.hackerrank.com/challenges/s10-geometric-distribution-1/problem"
   ]
  },
  {
   "cell_type": "code",
   "execution_count": 61,
   "metadata": {},
   "outputs": [
    {
     "name": "stdout",
     "output_type": "stream",
     "text": [
      "28 100\n",
      "5\n"
     ]
    }
   ],
   "source": [
    "while True:\n",
    "    defect_num, defect_denom = list(map(int, input().split()))\n",
    "    defect_rate = float(defect_num/defect_denom)\n",
    "    if defect_rate > 0:\n",
    "        break\n",
    "        \n",
    "while True:\n",
    "    inspect_id = int(input())\n",
    "    if inspect_id > 0:\n",
    "        break"
   ]
  },
  {
   "cell_type": "code",
   "execution_count": 62,
   "metadata": {},
   "outputs": [],
   "source": [
    "def geom_prob(n, p):\n",
    "    return (1-p)**(n-1) * p"
   ]
  },
  {
   "cell_type": "code",
   "execution_count": 63,
   "metadata": {},
   "outputs": [
    {
     "name": "stdout",
     "output_type": "stream",
     "text": [
      "0.075\n"
     ]
    }
   ],
   "source": [
    "print('{:.3f}'.format(geom_prob(inspect_id, defect_rate)))"
   ]
  },
  {
   "cell_type": "markdown",
   "metadata": {},
   "source": [
    "## Day 4: Geometric Distribution II\n",
    "https://www.hackerrank.com/challenges/s10-geometric-distribution-2/problem"
   ]
  },
  {
   "cell_type": "code",
   "execution_count": 64,
   "metadata": {},
   "outputs": [
    {
     "name": "stdout",
     "output_type": "stream",
     "text": [
      "35 100\n",
      "8\n"
     ]
    }
   ],
   "source": [
    "while True:\n",
    "    defect_num, defect_denom = list(map(int, input().split()))\n",
    "    defect_rate = float(defect_num/defect_denom)\n",
    "    if defect_rate > 0:\n",
    "        break\n",
    "        \n",
    "while True:\n",
    "    inspect_id = int(input())\n",
    "    if inspect_id > 0:\n",
    "        break"
   ]
  },
  {
   "cell_type": "code",
   "execution_count": 65,
   "metadata": {},
   "outputs": [
    {
     "data": {
      "text/plain": [
       "0.35"
      ]
     },
     "execution_count": 65,
     "metadata": {},
     "output_type": "execute_result"
    }
   ],
   "source": [
    "defect_rate"
   ]
  },
  {
   "cell_type": "code",
   "execution_count": 66,
   "metadata": {},
   "outputs": [
    {
     "name": "stdout",
     "output_type": "stream",
     "text": [
      "0.968\n"
     ]
    }
   ],
   "source": [
    "probab = 0.\n",
    "for i in range(1, inspect_id+1):\n",
    "    probab += geom_prob(i, defect_rate)\n",
    "print('{:.3f}'.format(probab))"
   ]
  },
  {
   "cell_type": "markdown",
   "metadata": {},
   "source": [
    "## Day 5: Poisson Distribution I\n",
    "https://www.hackerrank.com/challenges/s10-poisson-distribution-1/problem"
   ]
  },
  {
   "cell_type": "code",
   "execution_count": 67,
   "metadata": {},
   "outputs": [],
   "source": [
    "def p_poisson(lam, k):\n",
    "    return lam**k * math.exp(-lam) / factorial(k)"
   ]
  },
  {
   "cell_type": "code",
   "execution_count": 68,
   "metadata": {},
   "outputs": [
    {
     "name": "stdout",
     "output_type": "stream",
     "text": [
      "2.5\n"
     ]
    }
   ],
   "source": [
    "while True:\n",
    "    lam = float(input())\n",
    "    if lam > 0.:\n",
    "        break"
   ]
  },
  {
   "cell_type": "code",
   "execution_count": 69,
   "metadata": {},
   "outputs": [
    {
     "name": "stdout",
     "output_type": "stream",
     "text": [
      "8\n"
     ]
    }
   ],
   "source": [
    "while True:\n",
    "    k = int(input())\n",
    "    if k > 0:\n",
    "        break"
   ]
  },
  {
   "cell_type": "code",
   "execution_count": 70,
   "metadata": {},
   "outputs": [
    {
     "name": "stdout",
     "output_type": "stream",
     "text": [
      "0.003\n"
     ]
    }
   ],
   "source": [
    "print('{:.3f}'.format(p_poisson(lam, k)))"
   ]
  },
  {
   "cell_type": "markdown",
   "metadata": {},
   "source": [
    "## Day 5: Poisson Distribution II\n",
    "https://www.hackerrank.com/challenges/s10-poisson-distribution-2/problem"
   ]
  },
  {
   "cell_type": "code",
   "execution_count": 71,
   "metadata": {},
   "outputs": [
    {
     "name": "stdout",
     "output_type": "stream",
     "text": [
      "2.3 5.6\n"
     ]
    }
   ],
   "source": [
    "while True:\n",
    "    lam_a, lam_b = list(map(float, input().split()))\n",
    "    if lam_a > 0 and lam_b > 0.:\n",
    "        break"
   ]
  },
  {
   "cell_type": "code",
   "execution_count": 72,
   "metadata": {},
   "outputs": [],
   "source": [
    "def cost_a(x):\n",
    "    exp_x2 = x + x**2\n",
    "    return 160. + 40. * exp_x2\n",
    "def cost_b(x):\n",
    "    exp_x2 = x + x**2\n",
    "    return 128. + 40. * exp_x2"
   ]
  },
  {
   "cell_type": "code",
   "execution_count": 73,
   "metadata": {},
   "outputs": [
    {
     "name": "stdout",
     "output_type": "stream",
     "text": [
      "463.600\n",
      "1606.400\n"
     ]
    }
   ],
   "source": [
    "# daily cost of machine A\n",
    "print('{:.3f}'.format(cost_a(lam_a)))\n",
    "# daily cost of machine B\n",
    "print('{:.3f}'.format(cost_b(lam_b)))"
   ]
  },
  {
   "cell_type": "markdown",
   "metadata": {},
   "source": [
    "## Day 5: Normal Distribution I\n",
    "https://www.hackerrank.com/challenges/s10-normal-distribution-1/problem"
   ]
  },
  {
   "cell_type": "code",
   "execution_count": 74,
   "metadata": {},
   "outputs": [
    {
     "name": "stdout",
     "output_type": "stream",
     "text": [
      "5.6 2.3\n"
     ]
    }
   ],
   "source": [
    "while True:\n",
    "    mean, std = list(map(float, input().split()))\n",
    "    if mean > 0 and std > 0:\n",
    "        break"
   ]
  },
  {
   "cell_type": "code",
   "execution_count": 75,
   "metadata": {},
   "outputs": [
    {
     "name": "stdout",
     "output_type": "stream",
     "text": [
      "4\n"
     ]
    }
   ],
   "source": [
    "while True:\n",
    "    x_lessthan = float(input())\n",
    "    if x_lessthan > 0:\n",
    "        break"
   ]
  },
  {
   "cell_type": "code",
   "execution_count": 76,
   "metadata": {},
   "outputs": [
    {
     "name": "stdout",
     "output_type": "stream",
     "text": [
      "2 3.5\n"
     ]
    }
   ],
   "source": [
    "while True:\n",
    "    xlo, xhi = list(map(float, input().split()))\n",
    "    if xlo > 0 and xhi > 0 and xlo < xhi:\n",
    "        break"
   ]
  },
  {
   "cell_type": "code",
   "execution_count": 77,
   "metadata": {},
   "outputs": [],
   "source": [
    "import math"
   ]
  },
  {
   "cell_type": "code",
   "execution_count": 78,
   "metadata": {},
   "outputs": [],
   "source": [
    "# cumulative distribution function\n",
    "def cdf(x, mean, std):\n",
    "    return 0.5 * (1 + math.erf((x - mean) / (std * (2 ** 0.5))))"
   ]
  },
  {
   "cell_type": "code",
   "execution_count": 79,
   "metadata": {},
   "outputs": [
    {
     "name": "stdout",
     "output_type": "stream",
     "text": [
      "0.243\n",
      "0.122\n"
     ]
    }
   ],
   "source": [
    "# Less than x_lessthan\n",
    "print('{:.3f}'.format(cdf(x_lessthan, mean, std)))\n",
    "# Between xlo and xhi\n",
    "print('{:.3f}'.format(cdf(xhi, mean, std) - cdf(xlo, mean, std)))"
   ]
  },
  {
   "cell_type": "markdown",
   "metadata": {},
   "source": [
    "## Day 5: Normal Distribution II\n",
    "https://www.hackerrank.com/challenges/s10-normal-distribution-2/problem"
   ]
  },
  {
   "cell_type": "code",
   "execution_count": 80,
   "metadata": {},
   "outputs": [
    {
     "name": "stdout",
     "output_type": "stream",
     "text": [
      "5.6 2.1\n"
     ]
    }
   ],
   "source": [
    "while True:\n",
    "    mean, std = list(map(float, input().split()))\n",
    "    if mean > 0 and std > 0:\n",
    "        break"
   ]
  },
  {
   "cell_type": "code",
   "execution_count": 81,
   "metadata": {},
   "outputs": [
    {
     "name": "stdout",
     "output_type": "stream",
     "text": [
      "7\n"
     ]
    }
   ],
   "source": [
    "while True:\n",
    "    g_higher = float(input())\n",
    "    if g_higher > 0:\n",
    "        break"
   ]
  },
  {
   "cell_type": "code",
   "execution_count": 82,
   "metadata": {},
   "outputs": [
    {
     "name": "stdout",
     "output_type": "stream",
     "text": [
      "4\n"
     ]
    }
   ],
   "source": [
    "while True:\n",
    "    g_pass = float(input())\n",
    "    if g_pass > 0:\n",
    "        break"
   ]
  },
  {
   "cell_type": "code",
   "execution_count": 83,
   "metadata": {},
   "outputs": [
    {
     "name": "stdout",
     "output_type": "stream",
     "text": [
      "25.25\n",
      "77.69\n",
      "22.31\n"
     ]
    }
   ],
   "source": [
    "# percentage of students having grade > g_higher\n",
    "print('{:.2f}'.format(100. * (1. - cdf(g_higher, mean, std))))\n",
    "# percentage of students having grade >= g_pass\n",
    "print('{:.2f}'.format(100. * (1. - cdf(g_pass, mean, std))))\n",
    "# percentage of students having grade < g_pass\n",
    "print('{:.2f}'.format(100. * cdf(g_pass, mean, std)))"
   ]
  },
  {
   "cell_type": "markdown",
   "metadata": {},
   "source": [
    "## Day 6: The Central Limit Theorem I\n",
    "https://www.hackerrank.com/challenges/s10-the-central-limit-theorem-1/problem"
   ]
  },
  {
   "cell_type": "code",
   "execution_count": 84,
   "metadata": {},
   "outputs": [
    {
     "name": "stdout",
     "output_type": "stream",
     "text": [
      "9000\n",
      "20\n",
      "450\n",
      "5\n"
     ]
    }
   ],
   "source": [
    "while True:\n",
    "    max_wgt = int(input())\n",
    "    if max_wgt > 0:\n",
    "        break\n",
    "while True:\n",
    "    boxes = int(input())\n",
    "    if boxes > 0:\n",
    "        break\n",
    "while True:\n",
    "    mean_box_wgt = int(input())\n",
    "    if mean_box_wgt > 0:\n",
    "        break\n",
    "while True:\n",
    "    sd_box_wgt = int(input())\n",
    "    if sd_box_wgt > 0:\n",
    "        break"
   ]
  },
  {
   "cell_type": "code",
   "execution_count": 85,
   "metadata": {},
   "outputs": [
    {
     "name": "stdout",
     "output_type": "stream",
     "text": [
      "0.5000\n"
     ]
    }
   ],
   "source": [
    "mu = boxes * mean_box_wgt\n",
    "sd = math.sqrt(boxes) * sd_box_wgt\n",
    "# probability that the elevator can successfully transport all\n",
    "print('{:.4f}'.format(cdf(max_wgt, mu, sd)))"
   ]
  },
  {
   "cell_type": "markdown",
   "metadata": {},
   "source": [
    "## Day 6: Central Limit Theorem II\n",
    "https://www.hackerrank.com/challenges/s10-the-central-limit-theorem-2/problem"
   ]
  },
  {
   "cell_type": "code",
   "execution_count": 90,
   "metadata": {},
   "outputs": [
    {
     "name": "stdout",
     "output_type": "stream",
     "text": [
      "250\n",
      "100\n",
      "2.4\n",
      "2\n"
     ]
    }
   ],
   "source": [
    "while True:\n",
    "    # number of tickets available\n",
    "    N = int(input())\n",
    "    if N > 0:\n",
    "        break\n",
    "while True:\n",
    "    # number of students\n",
    "    n = int(input())\n",
    "    if n > 0:\n",
    "        break\n",
    "while True:\n",
    "    # average ticket purchases per student\n",
    "    mu = float(input())\n",
    "    if mu > 0:\n",
    "        break\n",
    "while True:\n",
    "    # standard deviation\n",
    "    sd = float(input())\n",
    "    if sd > 0:\n",
    "        break"
   ]
  },
  {
   "cell_type": "code",
   "execution_count": 91,
   "metadata": {},
   "outputs": [
    {
     "name": "stdout",
     "output_type": "stream",
     "text": [
      "0.6915\n"
     ]
    }
   ],
   "source": [
    "mu_normal = n * mu\n",
    "sd_normal = math.sqrt(n) * sd\n",
    "# probability that the n students can purchase N tickets\n",
    "print('{:.4f}'.format(cdf(N, mu_normal, sd_normal)))"
   ]
  },
  {
   "cell_type": "markdown",
   "metadata": {},
   "source": [
    "## Day 6: The Central Limit Theorem III\n",
    "https://www.hackerrank.com/challenges/s10-the-central-limit-theorem-3/problem"
   ]
  },
  {
   "cell_type": "code",
   "execution_count": 92,
   "metadata": {},
   "outputs": [
    {
     "name": "stdout",
     "output_type": "stream",
     "text": [
      "100\n",
      "500\n",
      "80\n",
      ".95\n",
      "1.96\n"
     ]
    }
   ],
   "source": [
    "while True:\n",
    "    # sample size\n",
    "    N = int(input())\n",
    "    if N > 0:\n",
    "        break\n",
    "while True:\n",
    "    # population mean\n",
    "    mu = float(input())\n",
    "    if mu > 0:\n",
    "        break\n",
    "while True:\n",
    "    # population stdev\n",
    "    sd = float(input())\n",
    "    if sd > 0:\n",
    "        break\n",
    "while True:\n",
    "    # fraction\n",
    "    frac = float(input())\n",
    "    if frac > 0:\n",
    "        break\n",
    "while True:\n",
    "    # z-score\n",
    "    z = float(input())\n",
    "    if z > 0:\n",
    "        break"
   ]
  },
  {
   "cell_type": "code",
   "execution_count": 93,
   "metadata": {},
   "outputs": [
    {
     "name": "stdout",
     "output_type": "stream",
     "text": [
      "484.32\n",
      "515.68\n"
     ]
    }
   ],
   "source": [
    "marginOfError = z * sd / math.sqrt(N);\n",
    "print('{:.2f}'.format(mu - marginOfError))\n",
    "print('{:.2f}'.format(mu + marginOfError))"
   ]
  },
  {
   "cell_type": "markdown",
   "metadata": {},
   "source": [
    "## Day 7: Pearson Correlation Coefficient I\n",
    "https://www.hackerrank.com/challenges/s10-pearson-correlation-coefficient"
   ]
  },
  {
   "cell_type": "code",
   "execution_count": 94,
   "metadata": {},
   "outputs": [
    {
     "name": "stdout",
     "output_type": "stream",
     "text": [
      "10\n"
     ]
    }
   ],
   "source": [
    "while True:\n",
    "    n = int(input())\n",
    "    if n in range(10, 101):\n",
    "        break\n",
    "    print('try again')"
   ]
  },
  {
   "cell_type": "code",
   "execution_count": 95,
   "metadata": {},
   "outputs": [],
   "source": [
    "def getinputfloats(N, min, max):\n",
    "    X = input()\n",
    "    while len(X.strip().split(' ')) != N:\n",
    "        print(f'input length does not equal {N}')\n",
    "        X = input()\n",
    "    Xi = [float(x) for x in X.strip().split()]\n",
    "    for x in Xi:\n",
    "        if x < min or x > max:\n",
    "            print('invalid element(s)')\n",
    "            getinputfloats(N, min, max)\n",
    "    return Xi"
   ]
  },
  {
   "cell_type": "code",
   "execution_count": 96,
   "metadata": {},
   "outputs": [
    {
     "name": "stdout",
     "output_type": "stream",
     "text": [
      "10 9.8 8 7.8 7.7 7 6 5 4 2 \n"
     ]
    }
   ],
   "source": [
    "xi = getinputfloats(n, 1, 500)"
   ]
  },
  {
   "cell_type": "code",
   "execution_count": 97,
   "metadata": {},
   "outputs": [
    {
     "name": "stdout",
     "output_type": "stream",
     "text": [
      "200 44 32 24 22 17 15 12 8 4\n"
     ]
    }
   ],
   "source": [
    "yi = getinputfloats(n, 1, 500)"
   ]
  },
  {
   "cell_type": "code",
   "execution_count": 98,
   "metadata": {},
   "outputs": [],
   "source": [
    "def pearson_coef(x, y):\n",
    "    mean_x = getmean(x)\n",
    "    mean_y = getmean(y)\n",
    "    std_x = getstd(x)\n",
    "    std_y = getstd(y)\n",
    "    n = len(x)\n",
    "    divider = n * std_x * std_y\n",
    "    numerator = 0.\n",
    "    for xi, yi in zip(x, y):\n",
    "        numerator += (xi - mean_x) * (yi - mean_y)\n",
    "    return numerator/divider"
   ]
  },
  {
   "cell_type": "code",
   "execution_count": 99,
   "metadata": {},
   "outputs": [
    {
     "name": "stdout",
     "output_type": "stream",
     "text": [
      "0.612\n"
     ]
    }
   ],
   "source": [
    "print('{:.3f}'.format(pearson_coef(xi, yi)))"
   ]
  },
  {
   "cell_type": "markdown",
   "metadata": {},
   "source": [
    "## Day 7: Spearman's Rank Correlation Coefficient\n",
    "https://www.hackerrank.com/challenges/s10-spearman-rank-correlation-coefficient/problem"
   ]
  },
  {
   "cell_type": "code",
   "execution_count": 100,
   "metadata": {},
   "outputs": [
    {
     "name": "stdout",
     "output_type": "stream",
     "text": [
      "10\n"
     ]
    }
   ],
   "source": [
    "while True:\n",
    "    n = int(input())\n",
    "    if n in range(10, 101):\n",
    "        break\n",
    "    print('try again')"
   ]
  },
  {
   "cell_type": "code",
   "execution_count": 101,
   "metadata": {},
   "outputs": [
    {
     "name": "stdout",
     "output_type": "stream",
     "text": [
      "10 9.8 8 7.8 7.7 1.7 6 5 1.4 2 \n",
      "200 44 32 24 22 17 15 12 8 4\n"
     ]
    }
   ],
   "source": [
    "Xi = getinputfloats(n, 1, 500)\n",
    "Yi = getinputfloats(n, 1, 500)"
   ]
  },
  {
   "cell_type": "code",
   "execution_count": 102,
   "metadata": {},
   "outputs": [],
   "source": [
    "def getrank(vector):\n",
    "    a={}\n",
    "    rank=1\n",
    "    for num in sorted(vector):\n",
    "        if num not in a:\n",
    "            a[num]=rank\n",
    "            rank=rank+1\n",
    "    return [a[i] for i in vector]"
   ]
  },
  {
   "cell_type": "code",
   "execution_count": 103,
   "metadata": {},
   "outputs": [
    {
     "data": {
      "text/plain": [
       "[10, 9, 8, 7, 6, 2, 5, 4, 1, 3]"
      ]
     },
     "execution_count": 103,
     "metadata": {},
     "output_type": "execute_result"
    }
   ],
   "source": [
    "getrank(Xi)"
   ]
  },
  {
   "cell_type": "code",
   "execution_count": 104,
   "metadata": {},
   "outputs": [
    {
     "data": {
      "text/plain": [
       "[10, 9, 8, 7, 6, 5, 4, 3, 2, 1]"
      ]
     },
     "execution_count": 104,
     "metadata": {},
     "output_type": "execute_result"
    }
   ],
   "source": [
    "getrank(Yi)"
   ]
  },
  {
   "cell_type": "code",
   "execution_count": 105,
   "metadata": {},
   "outputs": [
    {
     "data": {
      "text/plain": [
       "0.5791371247539927"
      ]
     },
     "execution_count": 105,
     "metadata": {},
     "output_type": "execute_result"
    }
   ],
   "source": [
    "pearson_coef(Xi, Yi)"
   ]
  },
  {
   "cell_type": "code",
   "execution_count": 106,
   "metadata": {},
   "outputs": [],
   "source": [
    "import scipy.stats as stats"
   ]
  },
  {
   "cell_type": "code",
   "execution_count": 107,
   "metadata": {},
   "outputs": [
    {
     "data": {
      "text/plain": [
       "(0.5791371247539927, 0.07936346183545152)"
      ]
     },
     "execution_count": 107,
     "metadata": {},
     "output_type": "execute_result"
    }
   ],
   "source": [
    "# pearson correlation coefficient and p-value\n",
    "stats.pearsonr(Xi, Yi)"
   ]
  },
  {
   "cell_type": "code",
   "execution_count": 108,
   "metadata": {},
   "outputs": [
    {
     "data": {
      "text/plain": [
       "(0.9030303030303031, 0.0003436121977632796)"
      ]
     },
     "execution_count": 108,
     "metadata": {},
     "output_type": "execute_result"
    }
   ],
   "source": [
    "# pearson correlation coefficient and p-value\n",
    "stats.pearsonr(getrank(Xi), getrank(Yi))"
   ]
  },
  {
   "cell_type": "markdown",
   "metadata": {},
   "source": [
    "## Day 8: Least Square Regression Line\n",
    "https://www.hackerrank.com/challenges/s10-spearman-rank-correlation-coefficient/tutorial"
   ]
  },
  {
   "cell_type": "code",
   "execution_count": 109,
   "metadata": {},
   "outputs": [
    {
     "name": "stdout",
     "output_type": "stream",
     "text": [
      "85 95\n",
      "95 85\n",
      "72 59\n",
      "68 71\n",
      "98 91\n",
      "[85, 95, 72, 68, 98]\n",
      "[95, 85, 59, 71, 91]\n"
     ]
    }
   ],
   "source": [
    "n = 5\n",
    "X = []\n",
    "Y = []\n",
    "for i in range(n):\n",
    "    while True:\n",
    "        xi, yi = map(int, input().strip().split())\n",
    "        if xi >= 0 and yi >= 0:\n",
    "            X.append(xi)\n",
    "            Y.append(yi)\n",
    "            break\n",
    "print(X)\n",
    "print(Y)"
   ]
  },
  {
   "cell_type": "code",
   "execution_count": 111,
   "metadata": {},
   "outputs": [
    {
     "data": {
      "text/plain": [
       "418"
      ]
     },
     "execution_count": 111,
     "metadata": {},
     "output_type": "execute_result"
    }
   ],
   "source": [
    "sum(X)"
   ]
  },
  {
   "cell_type": "code",
   "execution_count": 112,
   "metadata": {},
   "outputs": [
    {
     "name": "stdout",
     "output_type": "stream",
     "text": [
      "0.8650306748466258 7.883435582822088\n",
      "77.086\n"
     ]
    }
   ],
   "source": [
    "def getb(X, Y):\n",
    "    n = len(X)\n",
    "    sum_xy = 0\n",
    "    sum_x2 = 0\n",
    "    sum_y2 = 0\n",
    "    for i in range(n):\n",
    "        sum_xy += X[i] * Y[i]\n",
    "        sum_x2 += X[i]**2\n",
    "        sum_y2 += Y[i]**2\n",
    "    b = ( n * sum_xy - sum(X) * sum(Y) ) / ( n * sum_x2 - (sum(X))**2 )\n",
    "    return b\n",
    "\n",
    "def geta(X, Y, b):\n",
    "    return getmean(Y) - b * getmean(X)\n",
    "    \n",
    "b = getb(X, Y)\n",
    "a = geta(X, Y, b)\n",
    "\n",
    "print(b, a)\n",
    "\n",
    "def ypred(x, a, b):\n",
    "    return a + b*x\n",
    "\n",
    "print('{:.3f}'.format(ypred(80, a, b)))"
   ]
  },
  {
   "cell_type": "markdown",
   "metadata": {},
   "source": [
    "## Day 8: Pearson Correlation Coefficient II\n",
    "https://www.hackerrank.com/challenges/s10-mcq-7/problem"
   ]
  },
  {
   "cell_type": "code",
   "execution_count": 1,
   "metadata": {},
   "outputs": [],
   "source": [
    "# b = p * (sd_y / sd_x)\n",
    "# eq1: 3x + 4y + 8 = 0 --> y = -(3/4)x - 8/3 [b1 = -3/4, a1 = -8/3]\n",
    "# eq2: 4x + 3y + 7 = 0 --> x = -(3/4)y - 7/4 [b2 = -3/4, a2 = -7/4]\n",
    "# b1 = p * (sd_y / sd_x)\n",
    "# b2 = p * (sd_x / sd_y)\n",
    "# b1 * b2 = p**2\n",
    "# p = sqrt(3/4 * 3/4)\n",
    "# p = +/- 3/4\n",
    "# since slopes (b) are negative, p = -3/4"
   ]
  },
  {
   "cell_type": "markdown",
   "metadata": {},
   "source": [
    "## Day 8: Multiple Linear Regression\n",
    "https://www.hackerrank.com/challenges/s10-multiple-linear-regression/problem"
   ]
  },
  {
   "cell_type": "code",
   "execution_count": 1,
   "metadata": {},
   "outputs": [
    {
     "name": "stdout",
     "output_type": "stream",
     "text": [
      "2 7\n"
     ]
    }
   ],
   "source": [
    "while True:\n",
    "    # m = num of features, n = num of observations\n",
    "    m, n = list(map(int, input().strip().split()))\n",
    "    if m > 0 and n > 0:\n",
    "        break"
   ]
  },
  {
   "cell_type": "code",
   "execution_count": 2,
   "metadata": {},
   "outputs": [
    {
     "name": "stdout",
     "output_type": "stream",
     "text": [
      "0\n",
      "0.18 0.89 109.85\n",
      "[0.18, 0.89]\n",
      "109.85\n",
      "1\n",
      "1.0 0.26 155.72\n",
      "[1.0, 0.26]\n",
      "155.72\n",
      "2\n",
      "0.92 0.11 137.66\n",
      "[0.92, 0.11]\n",
      "137.66\n",
      "3\n",
      "0.07 0.37 76.17\n",
      "[0.07, 0.37]\n",
      "76.17\n",
      "4\n",
      "0.85 0.16 139.75\n",
      "[0.85, 0.16]\n",
      "139.75\n",
      "5\n",
      "0.99 0.41 162.6\n",
      "[0.99, 0.41]\n",
      "162.6\n",
      "6\n",
      "0.87 0.47 151.77\n",
      "[0.87, 0.47]\n",
      "151.77\n"
     ]
    }
   ],
   "source": [
    "X = []\n",
    "Y = []\n",
    "for _ in range(n):\n",
    "    while True:\n",
    "        vals = list(map(float, input().strip().split()))\n",
    "        x = vals[0:m]\n",
    "        y = vals[m:]\n",
    "#         print(x)\n",
    "#         print(y)\n",
    "        break\n",
    "\n",
    "    X.append(x)\n",
    "    Y.append(y)"
   ]
  },
  {
   "cell_type": "code",
   "execution_count": 8,
   "metadata": {},
   "outputs": [
    {
     "data": {
      "text/plain": [
       "[[0.18, 0.89],\n",
       " [1.0, 0.26],\n",
       " [0.92, 0.11],\n",
       " [0.07, 0.37],\n",
       " [0.85, 0.16],\n",
       " [0.99, 0.41],\n",
       " [0.87, 0.47]]"
      ]
     },
     "execution_count": 8,
     "metadata": {},
     "output_type": "execute_result"
    }
   ],
   "source": [
    "X"
   ]
  },
  {
   "cell_type": "code",
   "execution_count": 9,
   "metadata": {},
   "outputs": [
    {
     "data": {
      "text/plain": [
       "[109.85, 155.72, 137.66, 76.17, 139.75, 162.6, 151.77]"
      ]
     },
     "execution_count": 9,
     "metadata": {},
     "output_type": "execute_result"
    }
   ],
   "source": [
    "Y"
   ]
  },
  {
   "cell_type": "code",
   "execution_count": 3,
   "metadata": {},
   "outputs": [],
   "source": [
    "import numpy as np"
   ]
  },
  {
   "cell_type": "code",
   "execution_count": null,
   "metadata": {},
   "outputs": [],
   "source": [
    "X = np.array(X)\n",
    "Y = np.array(Y)"
   ]
  },
  {
   "cell_type": "code",
   "execution_count": 4,
   "metadata": {},
   "outputs": [],
   "source": [
    "X = np.array([[0.18, 0.89],\n",
    " [1.0, 0.26],\n",
    " [0.92, 0.11],\n",
    " [0.07, 0.37],\n",
    " [0.85, 0.16],\n",
    " [0.99, 0.41],\n",
    " [0.87, 0.47]])"
   ]
  },
  {
   "cell_type": "code",
   "execution_count": 5,
   "metadata": {},
   "outputs": [],
   "source": [
    "Y = np.array([109.85, 155.72, 137.66, 76.17, 139.75, 162.6, 151.77])"
   ]
  },
  {
   "cell_type": "code",
   "execution_count": 6,
   "metadata": {},
   "outputs": [
    {
     "data": {
      "text/plain": [
       "array([[1.],\n",
       "       [1.],\n",
       "       [1.],\n",
       "       [1.],\n",
       "       [1.],\n",
       "       [1.],\n",
       "       [1.]])"
      ]
     },
     "execution_count": 6,
     "metadata": {},
     "output_type": "execute_result"
    }
   ],
   "source": [
    "X0 = np.ones((n, 1))\n",
    "X0"
   ]
  },
  {
   "cell_type": "code",
   "execution_count": 7,
   "metadata": {},
   "outputs": [
    {
     "data": {
      "text/plain": [
       "array([[1.  , 0.18, 0.89],\n",
       "       [1.  , 1.  , 0.26],\n",
       "       [1.  , 0.92, 0.11],\n",
       "       [1.  , 0.07, 0.37],\n",
       "       [1.  , 0.85, 0.16],\n",
       "       [1.  , 0.99, 0.41],\n",
       "       [1.  , 0.87, 0.47]])"
      ]
     },
     "execution_count": 7,
     "metadata": {},
     "output_type": "execute_result"
    }
   ],
   "source": [
    "X = np.append(X0, X, axis=1)\n",
    "X"
   ]
  },
  {
   "cell_type": "code",
   "execution_count": 8,
   "metadata": {},
   "outputs": [
    {
     "data": {
      "text/plain": [
       "array([52.41149905, 90.69331739, 46.46296549])"
      ]
     },
     "execution_count": 8,
     "metadata": {},
     "output_type": "execute_result"
    }
   ],
   "source": [
    "B = np.matmul(np.matmul(np.linalg.inv(np.matmul(X.T, X)), X.T), Y)\n",
    "B"
   ]
  },
  {
   "cell_type": "code",
   "execution_count": 10,
   "metadata": {},
   "outputs": [
    {
     "name": "stdout",
     "output_type": "stream",
     "text": [
      "105.21455835106973\n",
      "142.67095130729967\n",
      "132.93605469124736\n",
      "129.70175404502484\n"
     ]
    }
   ],
   "source": [
    "queriesX = np.array([[0.49, 0.18],\n",
    "[0.57, 0.83],\n",
    "[0.56, 0.64],\n",
    "[0.76, 0.18]])\n",
    "Xtest = np.append(np.ones((queriesX.shape[0], 1)), queriesX, axis=1)\n",
    "Ytest = np.matmul(Xtest, B)\n",
    "for i in range(len(Xtest)):\n",
    "    print(Ytest[i])"
   ]
  },
  {
   "cell_type": "code",
   "execution_count": 4,
   "metadata": {},
   "outputs": [
    {
     "name": "stdout",
     "output_type": "stream",
     "text": [
      "4\n"
     ]
    }
   ],
   "source": [
    "while True:\n",
    "    q = int(input())\n",
    "    if q in range(1, 101):\n",
    "        break"
   ]
  },
  {
   "cell_type": "code",
   "execution_count": 6,
   "metadata": {},
   "outputs": [
    {
     "name": "stdout",
     "output_type": "stream",
     "text": [
      "0.49 0.18\n",
      "0.57 0.83\n",
      "0.56 0.64\n",
      "0.76 0.18\n"
     ]
    }
   ],
   "source": [
    "queries = []\n",
    "for _ in range(q):\n",
    "    while True:\n",
    "        x = list(map(float, input().strip().split()))\n",
    "        if len(x) == m:\n",
    "            queries.append(x)\n",
    "            break"
   ]
  },
  {
   "cell_type": "code",
   "execution_count": 7,
   "metadata": {},
   "outputs": [
    {
     "data": {
      "text/plain": [
       "[[0.49, 0.18], [0.57, 0.83], [0.56, 0.64], [0.76, 0.18]]"
      ]
     },
     "execution_count": 7,
     "metadata": {},
     "output_type": "execute_result"
    }
   ],
   "source": [
    "queries"
   ]
  },
  {
   "cell_type": "code",
   "execution_count": 10,
   "metadata": {},
   "outputs": [],
   "source": [
    "import numpy as np"
   ]
  },
  {
   "cell_type": "code",
   "execution_count": 11,
   "metadata": {},
   "outputs": [],
   "source": [
    "X = np.array(X)\n",
    "Y = np.array(Y)"
   ]
  },
  {
   "cell_type": "code",
   "execution_count": 13,
   "metadata": {},
   "outputs": [
    {
     "data": {
      "text/plain": [
       "(7, 2)"
      ]
     },
     "execution_count": 13,
     "metadata": {},
     "output_type": "execute_result"
    }
   ],
   "source": [
    "X.shape"
   ]
  },
  {
   "cell_type": "code",
   "execution_count": 17,
   "metadata": {},
   "outputs": [
    {
     "data": {
      "text/plain": [
       "array([[1.],\n",
       "       [1.],\n",
       "       [1.],\n",
       "       [1.],\n",
       "       [1.],\n",
       "       [1.],\n",
       "       [1.]])"
      ]
     },
     "execution_count": 17,
     "metadata": {},
     "output_type": "execute_result"
    }
   ],
   "source": [
    "X0 = np.ones((X.shape[0], 1))\n",
    "X0"
   ]
  },
  {
   "cell_type": "code",
   "execution_count": 18,
   "metadata": {},
   "outputs": [
    {
     "data": {
      "text/plain": [
       "array([[1.  , 0.  , 0.18, 0.89],\n",
       "       [1.  , 0.  , 1.  , 0.26],\n",
       "       [1.  , 0.  , 0.92, 0.11],\n",
       "       [1.  , 0.  , 0.07, 0.37],\n",
       "       [1.  , 0.  , 0.85, 0.16],\n",
       "       [1.  , 0.  , 0.99, 0.41],\n",
       "       [1.  , 0.  , 0.87, 0.47]])"
      ]
     },
     "execution_count": 18,
     "metadata": {},
     "output_type": "execute_result"
    }
   ],
   "source": [
    "X = np.append(X0, X, axis=1)\n",
    "X"
   ]
  },
  {
   "cell_type": "code",
   "execution_count": null,
   "metadata": {},
   "outputs": [],
   "source": []
  }
 ],
 "metadata": {
  "kernelspec": {
   "display_name": "Python 3",
   "language": "python",
   "name": "python3"
  },
  "language_info": {
   "codemirror_mode": {
    "name": "ipython",
    "version": 3
   },
   "file_extension": ".py",
   "mimetype": "text/x-python",
   "name": "python",
   "nbconvert_exporter": "python",
   "pygments_lexer": "ipython3",
   "version": "3.6.5"
  }
 },
 "nbformat": 4,
 "nbformat_minor": 2
}
