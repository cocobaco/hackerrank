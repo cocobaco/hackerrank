{
 "cells": [
  {
   "cell_type": "markdown",
   "metadata": {},
   "source": [
    "# 10 Days of Statistics\n",
    "https://www.hackerrank.com/challenges/s10-basic-statistics\n",
    "\n",
    "start 11 Oct 2018"
   ]
  },
  {
   "cell_type": "markdown",
   "metadata": {},
   "source": [
    "## Day 0: Mean, Median, and Mode"
   ]
  },
  {
   "cell_type": "code",
   "execution_count": 1,
   "metadata": {},
   "outputs": [
    {
     "name": "stdout",
     "output_type": "stream",
     "text": [
      "10\n"
     ]
    }
   ],
   "source": [
    "N = int(input())\n",
    "while (N < 10 or N > 2500):\n",
    "    N = int(input())"
   ]
  },
  {
   "cell_type": "code",
   "execution_count": 10,
   "metadata": {},
   "outputs": [],
   "source": [
    "def getinputnumbers(N, min, max):\n",
    "    X = input()\n",
    "    while len(X.strip().split(' ')) != N:\n",
    "        print(f'input length does not equal {N}')\n",
    "        X = input()\n",
    "    Xi = [int(x) for x in X.strip().split()]\n",
    "    for x in Xi:\n",
    "        if x < min or x > max:\n",
    "            print('invalid element(s)')\n",
    "            getinputnumbers(N, min, max)\n",
    "    return Xi"
   ]
  },
  {
   "cell_type": "code",
   "execution_count": 20,
   "metadata": {},
   "outputs": [
    {
     "name": "stdout",
     "output_type": "stream",
     "text": [
      "64630 11735 14216 99233 14470 4978 73429 38120 51135 67060\n"
     ]
    }
   ],
   "source": [
    "Xi = getinputnumbers(N, 0, 1e5)"
   ]
  },
  {
   "cell_type": "code",
   "execution_count": 15,
   "metadata": {},
   "outputs": [],
   "source": [
    "def getmean(x):\n",
    "    return sum(x)/len(x)\n",
    "\n",
    "def getmedian(x):\n",
    "    x.sort()\n",
    "    n = len(x)\n",
    "    if n % 2 == 1:  # odd: get middle value (0 1 2 [3] 4 5 6)\n",
    "        return x[int((n-1)/2)]\n",
    "    else:  # even: get average of middle pair (0 1 [2 3] 4 5)\n",
    "        return (x[int(n/2-1)] + x[int(n/2)])/2.\n",
    "    \n",
    "def getmode(x):\n",
    "    counts = {}\n",
    "    x.sort()\n",
    "    x_set = set(x)\n",
    "    x_unique_sorted = sorted(list(x_set))\n",
    "    for xi in x_unique_sorted:\n",
    "        counts[xi] = x.count(xi)\n",
    "    print(counts)\n",
    "    v = list(counts.values())\n",
    "    k = list(counts.keys())\n",
    "    return k[v.index(max(v))]\n",
    "    # return max(counts, key=counts.get)\n",
    "    \n",
    "def getmode2(x):\n",
    "    return max(x, key = x.count)"
   ]
  },
  {
   "cell_type": "code",
   "execution_count": 41,
   "metadata": {},
   "outputs": [
    {
     "data": {
      "text/plain": [
       "[4978, 11735, 14216, 14470, 38120, 51135, 64630, 67060, 73429, 99233]"
      ]
     },
     "execution_count": 41,
     "metadata": {},
     "output_type": "execute_result"
    }
   ],
   "source": [
    "sorted(set(Xi))"
   ]
  },
  {
   "cell_type": "code",
   "execution_count": 42,
   "metadata": {},
   "outputs": [
    {
     "name": "stdout",
     "output_type": "stream",
     "text": [
      "[4978, 11735, 14216, 14470, 38120, 51135, 64630, 67060, 73429, 99233]\n",
      "{4978: 1, 11735: 1, 14216: 1, 14470: 1, 38120: 1, 51135: 1, 64630: 1, 67060: 1, 73429: 1, 99233: 1}\n"
     ]
    },
    {
     "data": {
      "text/plain": [
       "4978"
      ]
     },
     "execution_count": 42,
     "metadata": {},
     "output_type": "execute_result"
    }
   ],
   "source": [
    "getmode(Xi)"
   ]
  },
  {
   "cell_type": "code",
   "execution_count": 43,
   "metadata": {},
   "outputs": [
    {
     "name": "stdout",
     "output_type": "stream",
     "text": [
      "43900.6\n"
     ]
    }
   ],
   "source": [
    "print(f'{getmean(Xi):.1f}')"
   ]
  },
  {
   "cell_type": "code",
   "execution_count": 44,
   "metadata": {},
   "outputs": [
    {
     "name": "stdout",
     "output_type": "stream",
     "text": [
      "44627.5\n"
     ]
    }
   ],
   "source": [
    "print(f'{getmedian(Xi):.1f}')"
   ]
  },
  {
   "cell_type": "code",
   "execution_count": 45,
   "metadata": {},
   "outputs": [
    {
     "name": "stdout",
     "output_type": "stream",
     "text": [
      "[4978, 11735, 14216, 14470, 38120, 51135, 64630, 67060, 73429, 99233]\n",
      "{4978: 1, 11735: 1, 14216: 1, 14470: 1, 38120: 1, 51135: 1, 64630: 1, 67060: 1, 73429: 1, 99233: 1}\n",
      "4978\n"
     ]
    }
   ],
   "source": [
    "print(f'{getmode(Xi)}')"
   ]
  },
  {
   "cell_type": "code",
   "execution_count": 46,
   "metadata": {},
   "outputs": [
    {
     "name": "stdout",
     "output_type": "stream",
     "text": [
      "4978\n"
     ]
    }
   ],
   "source": [
    "print(f'{getmode2(Xi)}')"
   ]
  },
  {
   "cell_type": "markdown",
   "metadata": {},
   "source": [
    "## Day 0: Weighted Mean"
   ]
  },
  {
   "cell_type": "code",
   "execution_count": 1,
   "metadata": {},
   "outputs": [
    {
     "name": "stdout",
     "output_type": "stream",
     "text": [
      "5\n"
     ]
    }
   ],
   "source": [
    "N = int(input())"
   ]
  },
  {
   "cell_type": "code",
   "execution_count": 6,
   "metadata": {},
   "outputs": [
    {
     "name": "stdout",
     "output_type": "stream",
     "text": [
      "10 20 30 40 55\n"
     ]
    }
   ],
   "source": [
    "Xi = getinputnumbers(N, 1, 100)"
   ]
  },
  {
   "cell_type": "code",
   "execution_count": 7,
   "metadata": {},
   "outputs": [
    {
     "name": "stdout",
     "output_type": "stream",
     "text": [
      "1 2 3 4 5\n"
     ]
    }
   ],
   "source": [
    "wi = getinputnumbers(N, 1, 100)"
   ]
  },
  {
   "cell_type": "code",
   "execution_count": 8,
   "metadata": {},
   "outputs": [],
   "source": [
    "def getWgmean(x, w):\n",
    "    n = len(x)\n",
    "    weighted_sum = 0\n",
    "    for i in range(n):\n",
    "        weighted_sum += x[i] * w[i]\n",
    "    return weighted_sum / sum(w)"
   ]
  },
  {
   "cell_type": "code",
   "execution_count": 9,
   "metadata": {},
   "outputs": [
    {
     "data": {
      "text/plain": [
       "38.333333333333336"
      ]
     },
     "execution_count": 9,
     "metadata": {},
     "output_type": "execute_result"
    }
   ],
   "source": [
    "getWgmean(Xi, wi)"
   ]
  },
  {
   "cell_type": "markdown",
   "metadata": {},
   "source": [
    "## Day 1: Quartiles"
   ]
  },
  {
   "cell_type": "code",
   "execution_count": 27,
   "metadata": {},
   "outputs": [
    {
     "name": "stdout",
     "output_type": "stream",
     "text": [
      "5\n"
     ]
    }
   ],
   "source": [
    "N = int(input())\n",
    "while (N < 5 or N > 50):\n",
    "    N = int(input())"
   ]
  },
  {
   "cell_type": "code",
   "execution_count": 28,
   "metadata": {},
   "outputs": [
    {
     "name": "stdout",
     "output_type": "stream",
     "text": [
      "3 12 4 45 24\n"
     ]
    }
   ],
   "source": [
    "Xi = getinputnumbers(N, 1, 100)"
   ]
  },
  {
   "cell_type": "code",
   "execution_count": 51,
   "metadata": {},
   "outputs": [],
   "source": [
    "def getquartiles(x):\n",
    "    x.sort()\n",
    "    n = len(x)\n",
    "    q2 = getmedian(x)\n",
    "    if n % 2 == 1:  # odd: 0 1 2 3 4\n",
    "        low_half = x[:int((n-1)/2)]\n",
    "        upp_half = x[int((n-1)/2)+1:]\n",
    "    else:  # even: 0 1 2 3\n",
    "        low_half = x[:int(n/2)]\n",
    "        upp_half = x[int(n/2):]\n",
    "    q1 = getmedian(low_half)\n",
    "    q3 = getmedian(upp_half)\n",
    "    return q1, q2, q3"
   ]
  },
  {
   "cell_type": "code",
   "execution_count": 33,
   "metadata": {},
   "outputs": [
    {
     "data": {
      "text/plain": [
       "(3.5, 12, 34.5)"
      ]
     },
     "execution_count": 33,
     "metadata": {},
     "output_type": "execute_result"
    }
   ],
   "source": [
    "getquartiles(Xi)"
   ]
  },
  {
   "cell_type": "markdown",
   "metadata": {},
   "source": [
    "## Day 1: Interquartile Range"
   ]
  },
  {
   "cell_type": "code",
   "execution_count": 34,
   "metadata": {},
   "outputs": [
    {
     "name": "stdout",
     "output_type": "stream",
     "text": [
      "5\n"
     ]
    }
   ],
   "source": [
    "N = int(input())\n",
    "while (N < 5 or N > 50):\n",
    "    N = int(input())"
   ]
  },
  {
   "cell_type": "code",
   "execution_count": 42,
   "metadata": {},
   "outputs": [
    {
     "name": "stdout",
     "output_type": "stream",
     "text": [
      "10 40 30 50 20\n"
     ]
    }
   ],
   "source": [
    "Xi = getinputnumbers(N, 1, 100)"
   ]
  },
  {
   "cell_type": "code",
   "execution_count": 58,
   "metadata": {},
   "outputs": [],
   "source": [
    "def getinputnumbers_sum(N, min, max, summax):\n",
    "    X = input()\n",
    "    while len(X.strip().split(' ')) != N:\n",
    "        print(f'input length does not equal {N}')\n",
    "        X = input()\n",
    "    Xi = [int(x) for x in X.strip().split()]\n",
    "    if sum(Xi) > summax:\n",
    "        getinputnumbers_sum(N, min, max, summax)\n",
    "    for x in Xi:\n",
    "        if x < min or x > max:\n",
    "            print('invalid element(s)')\n",
    "            getinputnumbers_sum(N, min, max, summax)\n",
    "    return Xi"
   ]
  },
  {
   "cell_type": "code",
   "execution_count": 43,
   "metadata": {},
   "outputs": [
    {
     "name": "stdout",
     "output_type": "stream",
     "text": [
      "1 2 3 4 5\n"
     ]
    }
   ],
   "source": [
    "fi = getinputnumbers_sum(N, 0, 1000, 1000)"
   ]
  },
  {
   "cell_type": "code",
   "execution_count": 38,
   "metadata": {},
   "outputs": [
    {
     "data": {
      "text/plain": [
       "[1, 2, 3, 4]"
      ]
     },
     "execution_count": 38,
     "metadata": {},
     "output_type": "execute_result"
    }
   ],
   "source": [
    "[1, 2] + [3, 4]"
   ]
  },
  {
   "cell_type": "code",
   "execution_count": 44,
   "metadata": {},
   "outputs": [
    {
     "data": {
      "text/plain": [
       "[10, 40, 40, 30, 30, 30, 50, 50, 50, 50, 20, 20, 20, 20, 20]"
      ]
     },
     "execution_count": 44,
     "metadata": {},
     "output_type": "execute_result"
    }
   ],
   "source": [
    "S = []\n",
    "for i, x in enumerate(Xi):\n",
    "    S += [x] * fi[i]\n",
    "S"
   ]
  },
  {
   "cell_type": "code",
   "execution_count": 52,
   "metadata": {},
   "outputs": [],
   "source": [
    "q1, q2, q3 = getquartiles(S)"
   ]
  },
  {
   "cell_type": "code",
   "execution_count": 53,
   "metadata": {},
   "outputs": [
    {
     "data": {
      "text/plain": [
       "20"
      ]
     },
     "execution_count": 53,
     "metadata": {},
     "output_type": "execute_result"
    }
   ],
   "source": [
    "q1"
   ]
  },
  {
   "cell_type": "code",
   "execution_count": 54,
   "metadata": {},
   "outputs": [
    {
     "data": {
      "text/plain": [
       "50"
      ]
     },
     "execution_count": 54,
     "metadata": {},
     "output_type": "execute_result"
    }
   ],
   "source": [
    "q3"
   ]
  },
  {
   "cell_type": "code",
   "execution_count": 55,
   "metadata": {},
   "outputs": [
    {
     "data": {
      "text/plain": [
       "30"
      ]
     },
     "execution_count": 55,
     "metadata": {},
     "output_type": "execute_result"
    }
   ],
   "source": [
    "q3 - q1"
   ]
  },
  {
   "cell_type": "code",
   "execution_count": 56,
   "metadata": {},
   "outputs": [],
   "source": [
    "S.sort()"
   ]
  },
  {
   "cell_type": "code",
   "execution_count": 48,
   "metadata": {},
   "outputs": [
    {
     "data": {
      "text/plain": [
       "[10, 20, 20, 20, 20, 20, 30, 30, 30, 40, 40, 50, 50, 50, 50]"
      ]
     },
     "execution_count": 48,
     "metadata": {},
     "output_type": "execute_result"
    }
   ],
   "source": [
    "S"
   ]
  },
  {
   "cell_type": "markdown",
   "metadata": {},
   "source": [
    "## Day 1: Standard Deviation"
   ]
  },
  {
   "cell_type": "code",
   "execution_count": 1,
   "metadata": {},
   "outputs": [
    {
     "name": "stdout",
     "output_type": "stream",
     "text": [
      "5\n"
     ]
    }
   ],
   "source": [
    "N = int(input())\n",
    "while N not in range(5, 101):\n",
    "    N = int(input())"
   ]
  },
  {
   "cell_type": "code",
   "execution_count": 4,
   "metadata": {},
   "outputs": [
    {
     "name": "stdout",
     "output_type": "stream",
     "text": [
      "10 40 30 50 20\n"
     ]
    }
   ],
   "source": [
    "Xi = getinputnumbers(N, 1, 100000)"
   ]
  },
  {
   "cell_type": "code",
   "execution_count": 16,
   "metadata": {},
   "outputs": [],
   "source": [
    "import math\n",
    "\n",
    "def getstd(x):\n",
    "    sumsq = 0.\n",
    "    for xi in x:\n",
    "        sumsq += (xi - getmean(x))**2\n",
    "    return math.sqrt(sumsq/len(x))"
   ]
  },
  {
   "cell_type": "code",
   "execution_count": 8,
   "metadata": {},
   "outputs": [
    {
     "name": "stdout",
     "output_type": "stream",
     "text": [
      "14.1\n"
     ]
    }
   ],
   "source": [
    "print('{:.1f}'.format(getstd(Xi)))"
   ]
  },
  {
   "cell_type": "markdown",
   "metadata": {},
   "source": [
    "## Day 2: Basic Probability\n",
    "https://www.hackerrank.com/challenges/s10-mcq-1/problem"
   ]
  },
  {
   "cell_type": "code",
   "execution_count": 23,
   "metadata": {},
   "outputs": [
    {
     "name": "stdout",
     "output_type": "stream",
     "text": [
      "sum of 1 and 1 = 2\n",
      "sum of 1 and 2 = 3\n",
      "sum of 1 and 3 = 4\n",
      "sum of 1 and 4 = 5\n",
      "sum of 1 and 5 = 6\n",
      "sum of 1 and 6 = 7\n",
      "sum of 2 and 1 = 3\n",
      "sum of 2 and 2 = 4\n",
      "sum of 2 and 3 = 5\n",
      "sum of 2 and 4 = 6\n",
      "sum of 2 and 5 = 7\n",
      "sum of 2 and 6 = 8\n",
      "sum of 3 and 1 = 4\n",
      "sum of 3 and 2 = 5\n",
      "sum of 3 and 3 = 6\n",
      "sum of 3 and 4 = 7\n",
      "sum of 3 and 5 = 8\n",
      "sum of 3 and 6 = 9\n",
      "sum of 4 and 1 = 5\n",
      "sum of 4 and 2 = 6\n",
      "sum of 4 and 3 = 7\n",
      "sum of 4 and 4 = 8\n",
      "sum of 4 and 5 = 9\n",
      "sum of 4 and 6 = 10\n",
      "sum of 5 and 1 = 6\n",
      "sum of 5 and 2 = 7\n",
      "sum of 5 and 3 = 8\n",
      "sum of 5 and 4 = 9\n",
      "sum of 5 and 5 = 10\n",
      "sum of 5 and 6 = 11\n",
      "sum of 6 and 1 = 7\n",
      "sum of 6 and 2 = 8\n",
      "sum of 6 and 3 = 9\n",
      "sum of 6 and 4 = 10\n",
      "sum of 6 and 5 = 11\n",
      "sum of 6 and 6 = 12\n",
      "--- summary ---\n",
      "sum at most 9 = 30\n",
      "total cases = 36\n"
     ]
    }
   ],
   "source": [
    "die_values = list(range(1, 7))\n",
    "die1 = die_values\n",
    "die2 = die_values\n",
    "sum_atmost_9 = 0\n",
    "total_cases = 0\n",
    "for d1 in die1:\n",
    "    for d2 in die2:\n",
    "        print('sum of {} and {} = {}'.format(d1, d2, d1+d2))\n",
    "        total_cases += 1\n",
    "        if d1+d2 <= 9:\n",
    "            sum_atmost_9 += 1\n",
    "print('--- summary ---')\n",
    "print('sum at most 9 = {}'.format(sum_atmost_9))\n",
    "print('total cases = {}'.format(total_cases))"
   ]
  },
  {
   "cell_type": "markdown",
   "metadata": {},
   "source": [
    "## Day 2: Compound Event Probability\n",
    "https://www.hackerrank.com/challenges/s10-mcq-3/problem"
   ]
  },
  {
   "cell_type": "code",
   "execution_count": 1,
   "metadata": {},
   "outputs": [],
   "source": [
    "import random"
   ]
  },
  {
   "cell_type": "code",
   "execution_count": 33,
   "metadata": {},
   "outputs": [
    {
     "data": {
      "text/plain": [
       "['b', 'r', 'r']"
      ]
     },
     "execution_count": 33,
     "metadata": {},
     "output_type": "execute_result"
    }
   ],
   "source": [
    "X = ['r'] * 4 + ['b'] * 3\n",
    "Y = ['r'] * 5 + ['b'] * 4\n",
    "Z = ['r'] * 4 + ['b'] * 4\n",
    "\n",
    "picks = []\n",
    "picks.append(random.sample(X, 1)[0])\n",
    "picks.append(random.sample(Y, 1)[0])\n",
    "picks.append(random.sample(Z, 1)[0])\n",
    "picks"
   ]
  },
  {
   "cell_type": "code",
   "execution_count": 38,
   "metadata": {},
   "outputs": [
    {
     "name": "stdout",
     "output_type": "stream",
     "text": [
      "---summary---\n",
      "picks with 2r 1b = 204\n",
      "total possible picks = 504\n",
      "percent = 40.48\n"
     ]
    }
   ],
   "source": [
    "possible_picks = []\n",
    "picks_with_2r1b = 0\n",
    "for x in X:\n",
    "    for y in Y:\n",
    "        for z in Z:\n",
    "            possible_picks.append([x, y, z])\n",
    "total_possible_picks = len(possible_picks)\n",
    "\n",
    "for p in possible_picks:\n",
    "    if p.count('r') == 2 and p.count('b') == 1:\n",
    "        picks_with_2r1b += 1\n",
    "\n",
    "print('---summary---')\n",
    "print('picks with 2r 1b = {}'.format(picks_with_2r1b))\n",
    "print('total possible picks = {}'.format(total_possible_picks))\n",
    "print('percent = {:.2f}'.format(100. * picks_with_2r1b / total_possible_picks))"
   ]
  },
  {
   "cell_type": "code",
   "execution_count": 9,
   "metadata": {},
   "outputs": [],
   "source": [
    "# simplify fraction\n",
    "from fractions import Fraction"
   ]
  },
  {
   "cell_type": "code",
   "execution_count": null,
   "metadata": {},
   "outputs": [],
   "source": [
    "Fraction(picks_with_2r1b, total_possible_picks)"
   ]
  },
  {
   "cell_type": "markdown",
   "metadata": {},
   "source": [
    "## Day 3: Drawing Marbles\n",
    "https://www.hackerrank.com/challenges/s10-mcq-6/problem"
   ]
  },
  {
   "cell_type": "code",
   "execution_count": 5,
   "metadata": {},
   "outputs": [
    {
     "data": {
      "text/plain": [
       "['red', 'blue']"
      ]
     },
     "execution_count": 5,
     "metadata": {},
     "output_type": "execute_result"
    }
   ],
   "source": [
    "bag = ['red'] * 3 + ['blue'] * 4\n",
    "bag\n",
    "random.sample(bag, 2)"
   ]
  },
  {
   "cell_type": "code",
   "execution_count": 6,
   "metadata": {},
   "outputs": [
    {
     "data": {
      "text/plain": [
       "['red', 'red', 'blue', 'blue', 'blue', 'blue']"
      ]
     },
     "execution_count": 6,
     "metadata": {},
     "output_type": "execute_result"
    }
   ],
   "source": [
    "bag.remove('red')\n",
    "bag"
   ]
  },
  {
   "cell_type": "code",
   "execution_count": 10,
   "metadata": {},
   "outputs": [
    {
     "name": "stdout",
     "output_type": "stream",
     "text": [
      "0.6666666666666666\n",
      "2/3\n"
     ]
    }
   ],
   "source": [
    "probab_blue = bag.count('blue') / len(bag)\n",
    "print(probab_blue)\n",
    "print(Fraction(bag.count('blue'), len(bag)))"
   ]
  },
  {
   "cell_type": "markdown",
   "metadata": {},
   "source": [
    "## Day 3: Cards of the Same Suit\n",
    "https://www.hackerrank.com/challenges/s10-mcq-5/problem"
   ]
  },
  {
   "cell_type": "code",
   "execution_count": 52,
   "metadata": {},
   "outputs": [
    {
     "name": "stdout",
     "output_type": "stream",
     "text": [
      "there are 52 cards.\n"
     ]
    },
    {
     "data": {
      "text/plain": [
       "[(10, 'club'), (3, 'club')]"
      ]
     },
     "execution_count": 52,
     "metadata": {},
     "output_type": "execute_result"
    }
   ],
   "source": [
    "suits = ['club', 'diamond', 'heart', 'spade']\n",
    "ranks = list(range(2, 11))\n",
    "ranks.extend(['J', 'Q', 'K', 'A'])\n",
    "deck = []\n",
    "for r in ranks:\n",
    "    for s in suits:\n",
    "        deck.append((r, s))\n",
    "print(f'there are {len(deck)} cards.')\n",
    "two_cards = random.sample(deck, 2)\n",
    "two_cards"
   ]
  },
  {
   "cell_type": "code",
   "execution_count": 55,
   "metadata": {},
   "outputs": [
    {
     "data": {
      "text/plain": [
       "51"
      ]
     },
     "execution_count": 55,
     "metadata": {},
     "output_type": "execute_result"
    }
   ],
   "source": [
    "len([c for c in deck if c != (4, 'diamond')])"
   ]
  },
  {
   "cell_type": "code",
   "execution_count": 56,
   "metadata": {},
   "outputs": [
    {
     "data": {
      "text/plain": [
       "2652"
      ]
     },
     "execution_count": 56,
     "metadata": {},
     "output_type": "execute_result"
    }
   ],
   "source": [
    "52*51"
   ]
  },
  {
   "cell_type": "code",
   "execution_count": 58,
   "metadata": {},
   "outputs": [
    {
     "data": {
      "text/plain": [
       "624"
      ]
     },
     "execution_count": 58,
     "metadata": {},
     "output_type": "execute_result"
    }
   ],
   "source": [
    "4*13*12"
   ]
  },
  {
   "cell_type": "code",
   "execution_count": 57,
   "metadata": {},
   "outputs": [
    {
     "name": "stdout",
     "output_type": "stream",
     "text": [
      "---summary---\n",
      "there are 2652 possible hands.\n",
      "there are 624 hands with same suit.\n",
      "4/17\n"
     ]
    }
   ],
   "source": [
    "possible_hands = []\n",
    "samesuit_count = 0\n",
    "for card1 in deck:\n",
    "    #print(card1)\n",
    "    remaining_deck = [c for c in deck if not (c == card1)]\n",
    "    for card2 in remaining_deck:\n",
    "        possible_hands.append((card1, card2))\n",
    "        if (card1[1] == card2[1]):\n",
    "            samesuit_count += 1\n",
    "\n",
    "print('---summary---')\n",
    "print(f'there are {len(possible_hands)} possible hands.')\n",
    "print(f'there are {samesuit_count} hands with same suit.')\n",
    "print(Fraction(samesuit_count, len(possible_hands)))"
   ]
  },
  {
   "cell_type": "markdown",
   "metadata": {},
   "source": [
    "## Day 4: Binomial Distribution I\n",
    "https://www.hackerrank.com/challenges/s10-binomial-distribution-1/problem"
   ]
  },
  {
   "cell_type": "code",
   "execution_count": 3,
   "metadata": {},
   "outputs": [
    {
     "name": "stdout",
     "output_type": "stream",
     "text": [
      "1.09 1\n"
     ]
    }
   ],
   "source": [
    "while True:\n",
    "    ratio_bg, child_per_birth = list(map(float, input().split()))\n",
    "    if ratio_bg > 0.0 and child_per_birth > 0.0:\n",
    "        break"
   ]
  },
  {
   "cell_type": "code",
   "execution_count": 16,
   "metadata": {},
   "outputs": [
    {
     "data": {
      "text/plain": [
       "(0.521531100478469, 0.47846889952153115)"
      ]
     },
     "execution_count": 16,
     "metadata": {},
     "output_type": "execute_result"
    }
   ],
   "source": [
    "prob_boy = ratio_bg / (1. + ratio_bg)\n",
    "prob_grl = 1. / (1. + ratio_bg)\n",
    "prob_boy, prob_grl"
   ]
  },
  {
   "cell_type": "code",
   "execution_count": 5,
   "metadata": {},
   "outputs": [],
   "source": [
    "# prob_3b3g = (6 choose 3) * (pboy)**3 * (pgrl)**3 = (6!/(3! 3!)) * (pboy)**3 * (pgrl)**3\n",
    "def factorial(x):\n",
    "    if x == 0:\n",
    "        return 1\n",
    "    else:\n",
    "        ans = x\n",
    "        while x > 1:\n",
    "            ans = ans * (x-1)\n",
    "            x -= 1\n",
    "    return ans"
   ]
  },
  {
   "cell_type": "code",
   "execution_count": 25,
   "metadata": {},
   "outputs": [
    {
     "data": {
      "text/plain": [
       "(24, 120, 2, 1)"
      ]
     },
     "execution_count": 25,
     "metadata": {},
     "output_type": "execute_result"
    }
   ],
   "source": [
    "factorial(4), factorial(5), factorial(2), factorial(0)"
   ]
  },
  {
   "cell_type": "code",
   "execution_count": 26,
   "metadata": {},
   "outputs": [
    {
     "name": "stdout",
     "output_type": "stream",
     "text": [
      "0.311\n"
     ]
    }
   ],
   "source": [
    "def prob_bg(b, g, pb, pg):\n",
    "    ans = (factorial(b + g)/(factorial(b) * factorial(g))) * (pb**b) * (pg**g)\n",
    "    return ans\n",
    "\n",
    "prob_3b3g = prob_bg(3, 3, prob_boy, prob_grl)\n",
    "print('{:.3f}'.format(prob_3b3g))"
   ]
  },
  {
   "cell_type": "code",
   "execution_count": 27,
   "metadata": {},
   "outputs": [
    {
     "name": "stdout",
     "output_type": "stream",
     "text": [
      "0.696\n"
     ]
    }
   ],
   "source": [
    "#prob_atleast_3b = prob3b3g + prob4b2g + prob5b1g + prob6b1g\n",
    "prob_atleast_3b = prob_bg(3, 3, prob_boy, prob_grl) + prob_bg(4, 2, prob_boy, prob_grl) + \\\n",
    "                    prob_bg(5, 1, prob_boy, prob_grl) + prob_bg(6, 0, prob_boy, prob_grl)\n",
    "print('{:.3f}'.format(prob_atleast_3b))"
   ]
  },
  {
   "cell_type": "markdown",
   "metadata": {},
   "source": [
    "## Day 4: Binomial Distribution II\n",
    "https://www.hackerrank.com/challenges/s10-binomial-distribution-2/problem"
   ]
  },
  {
   "cell_type": "code",
   "execution_count": 7,
   "metadata": {},
   "outputs": [
    {
     "name": "stdout",
     "output_type": "stream",
     "text": [
      "12 10\n",
      "reject rate = 0.12\n",
      "batch = 10\n"
     ]
    }
   ],
   "source": [
    "while True:\n",
    "    reject_pct, batch = list(map(int, input().split()))\n",
    "    reject_rate = float(reject_pct/100.)\n",
    "    if reject_rate <= 100. and reject_rate >= 0. and batch > 0:\n",
    "        break\n",
    "print('reject rate = {}'.format(reject_rate))\n",
    "print('batch = {}'.format(batch))\n",
    "# 10 samples:\n",
    "# no more than 2 rejects: x = 0, 1, 2\n",
    "# at least 2 rejects: x = 2, 3, .., 10"
   ]
  },
  {
   "cell_type": "code",
   "execution_count": 3,
   "metadata": {},
   "outputs": [],
   "source": [
    "def prob_binomial(n, x, px):\n",
    "    ans = (factorial(n)/(factorial(x) * factorial(n-x))) * (px**x) * ((1-px)**(n-x))\n",
    "    return ans"
   ]
  },
  {
   "cell_type": "code",
   "execution_count": 8,
   "metadata": {},
   "outputs": [
    {
     "name": "stdout",
     "output_type": "stream",
     "text": [
      "0.891\n",
      "0.342\n"
     ]
    }
   ],
   "source": [
    "p_leq2 = 0\n",
    "p_geq2 = 0\n",
    "for i in range(0, 3):\n",
    "    p_leq2 += prob_binomial(batch, i, reject_rate)\n",
    "for i in range(2, 11):\n",
    "    p_geq2 += prob_binomial(batch, i, reject_rate)\n",
    "print('{:.3f}'.format(p_leq2))\n",
    "print('{:.3f}'.format(p_geq2))"
   ]
  },
  {
   "cell_type": "markdown",
   "metadata": {},
   "source": [
    "## Day 4: Geometric Distribution I\n",
    "https://www.hackerrank.com/challenges/s10-geometric-distribution-1/problem"
   ]
  },
  {
   "cell_type": "code",
   "execution_count": 9,
   "metadata": {},
   "outputs": [
    {
     "name": "stdout",
     "output_type": "stream",
     "text": [
      "1 3\n",
      "5\n"
     ]
    }
   ],
   "source": [
    "while True:\n",
    "    defect_num, defect_denom = list(map(int, input().split()))\n",
    "    defect_rate = float(defect_num/defect_denom)\n",
    "    if defect_rate > 0:\n",
    "        break\n",
    "while True:\n",
    "    inspect_id = int(input())\n",
    "    if inspect_id > 0:\n",
    "        break"
   ]
  },
  {
   "cell_type": "code",
   "execution_count": 10,
   "metadata": {},
   "outputs": [],
   "source": [
    "def geom_prob(n, p):\n",
    "    return (1-p)**(n-1) * p"
   ]
  },
  {
   "cell_type": "code",
   "execution_count": 11,
   "metadata": {},
   "outputs": [
    {
     "name": "stdout",
     "output_type": "stream",
     "text": [
      "0.066\n"
     ]
    }
   ],
   "source": [
    "print('{:.3f}'.format(geom_prob(inspect_id, defect_rate)))"
   ]
  },
  {
   "cell_type": "markdown",
   "metadata": {},
   "source": [
    "## Day 7: Pearson Correlation Coefficient I\n",
    "https://www.hackerrank.com/challenges/s10-pearson-correlation-coefficient"
   ]
  },
  {
   "cell_type": "code",
   "execution_count": 9,
   "metadata": {},
   "outputs": [
    {
     "name": "stdout",
     "output_type": "stream",
     "text": [
      "10\n"
     ]
    }
   ],
   "source": [
    "while True:\n",
    "    n = int(input())\n",
    "    if n in range(10, 101):\n",
    "        break\n",
    "    print('try again')"
   ]
  },
  {
   "cell_type": "code",
   "execution_count": 12,
   "metadata": {},
   "outputs": [],
   "source": [
    "def getinputfloats(N, min, max):\n",
    "    X = input()\n",
    "    while len(X.strip().split(' ')) != N:\n",
    "        print(f'input length does not equal {N}')\n",
    "        X = input()\n",
    "    Xi = [float(x) for x in X.strip().split()]\n",
    "    for x in Xi:\n",
    "        if x < min or x > max:\n",
    "            print('invalid element(s)')\n",
    "            getinputfloats(N, min, max)\n",
    "    return Xi"
   ]
  },
  {
   "cell_type": "code",
   "execution_count": 13,
   "metadata": {},
   "outputs": [
    {
     "name": "stdout",
     "output_type": "stream",
     "text": [
      "10 9.8 8 7.8 7.7 7 6 5 4 2\n"
     ]
    }
   ],
   "source": [
    "xi = getinputfloats(n, 1, 500)"
   ]
  },
  {
   "cell_type": "code",
   "execution_count": 14,
   "metadata": {},
   "outputs": [
    {
     "name": "stdout",
     "output_type": "stream",
     "text": [
      "200 44 32 24 22 17 15 12 8 4\n"
     ]
    }
   ],
   "source": [
    "yi = getinputfloats(n, 1, 500)"
   ]
  },
  {
   "cell_type": "code",
   "execution_count": 19,
   "metadata": {},
   "outputs": [],
   "source": [
    "def pearson_coef(x, y):\n",
    "    mean_x = getmean(x)\n",
    "    mean_y = getmean(y)\n",
    "    std_x = getstd(x)\n",
    "    std_y = getstd(y)\n",
    "    n = len(x)\n",
    "    divider = n * std_x * std_y\n",
    "    numerator = 0.\n",
    "    for xi, yi in zip(x, y):\n",
    "        numerator += (xi - mean_x) * (yi - mean_y)\n",
    "    return numerator/divider"
   ]
  },
  {
   "cell_type": "code",
   "execution_count": 22,
   "metadata": {},
   "outputs": [
    {
     "name": "stdout",
     "output_type": "stream",
     "text": [
      "0.612\n"
     ]
    }
   ],
   "source": [
    "print('{:.3f}'.format(pearson_coef(xi, yi)))"
   ]
  },
  {
   "cell_type": "code",
   "execution_count": null,
   "metadata": {},
   "outputs": [],
   "source": []
  }
 ],
 "metadata": {
  "kernelspec": {
   "display_name": "Python 3",
   "language": "python",
   "name": "python3"
  },
  "language_info": {
   "codemirror_mode": {
    "name": "ipython",
    "version": 3
   },
   "file_extension": ".py",
   "mimetype": "text/x-python",
   "name": "python",
   "nbconvert_exporter": "python",
   "pygments_lexer": "ipython3",
   "version": "3.6.5"
  }
 },
 "nbformat": 4,
 "nbformat_minor": 2
}
