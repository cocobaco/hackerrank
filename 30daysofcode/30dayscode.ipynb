{
 "cells": [
  {
   "cell_type": "markdown",
   "metadata": {},
   "source": [
    "# 30 days of Code\n",
    "\n",
    "https://www.hackerrank.com/domains/tutorials/30-days-of-code\n",
    "\n",
    "start: 9 Oct 2018"
   ]
  },
  {
   "cell_type": "markdown",
   "metadata": {},
   "source": [
    "## Day 0: Hello, World."
   ]
  },
  {
   "cell_type": "code",
   "execution_count": 1,
   "metadata": {},
   "outputs": [
    {
     "name": "stdout",
     "output_type": "stream",
     "text": [
      "Ola Mundo\n",
      "Hello, World.\n",
      "Ola Mundo\n"
     ]
    }
   ],
   "source": [
    "# Read a full line of input from stdin and save it to our dynamically typed variable, input_string.\n",
    "input_string = input()\n",
    "\n",
    "# Print a string literal saying \"Hello, World.\" to stdout.\n",
    "print('Hello, World.')\n",
    "\n",
    "# TODO: Write a line of code here that prints the contents of input_string to stdout.\n",
    "print(input_string)"
   ]
  },
  {
   "cell_type": "markdown",
   "metadata": {},
   "source": [
    "## Day 1: Data Types."
   ]
  },
  {
   "cell_type": "code",
   "execution_count": 2,
   "metadata": {},
   "outputs": [
    {
     "name": "stdout",
     "output_type": "stream",
     "text": [
      "12\n",
      "8.0\n",
      "is fun!\n",
      "16\n",
      "12.0\n",
      "HackerRank is fun!\n"
     ]
    }
   ],
   "source": [
    "i = 4\n",
    "d = 4.0\n",
    "s = 'HackerRank '\n",
    "# Declare second integer, double, and String variables.\n",
    "i2 = int(input())\n",
    "d2 = float(input())\n",
    "s2 = str(input())\n",
    "\n",
    "# Read and save an integer, double, and String to your variables.\n",
    "\n",
    "# Print the sum of both integer variables on a new line.\n",
    "print(i + i2)\n",
    "# Print the sum of the double variables on a new line.\n",
    "print(d + d2)\n",
    "# Concatenate and print the String variables on a new line\n",
    "# The 's' variable above should be printed first.\n",
    "print(s + s2)"
   ]
  },
  {
   "cell_type": "markdown",
   "metadata": {},
   "source": [
    "## Day 2: Operators"
   ]
  },
  {
   "cell_type": "code",
   "execution_count": 8,
   "metadata": {},
   "outputs": [
    {
     "name": "stdout",
     "output_type": "stream",
     "text": [
      "12.0\n",
      "20\n",
      "8\n",
      "15.36\n",
      "15\n"
     ]
    }
   ],
   "source": [
    "meal = float(input())\n",
    "tip_percent = int(input())\n",
    "tax_percent = int(input())\n",
    "\n",
    "payment = meal * (1 + float(tip_percent)/100. + float(tax_percent)/100.)\n",
    "print(payment)\n",
    "print(round(payment))"
   ]
  },
  {
   "cell_type": "markdown",
   "metadata": {},
   "source": [
    "## Day 3: Intro to Conditional Statements"
   ]
  },
  {
   "cell_type": "code",
   "execution_count": 1,
   "metadata": {},
   "outputs": [
    {
     "name": "stdout",
     "output_type": "stream",
     "text": [
      "12\n"
     ]
    }
   ],
   "source": [
    "n = int(input())\n",
    "while n < 1 or n > 100:\n",
    "    n = int(input())"
   ]
  },
  {
   "cell_type": "code",
   "execution_count": 3,
   "metadata": {},
   "outputs": [
    {
     "name": "stdout",
     "output_type": "stream",
     "text": [
      "Weird\n"
     ]
    }
   ],
   "source": [
    "if n % 2 == 1:\n",
    "    print('Weird')\n",
    "elif n in range(2, 6):\n",
    "    print('Not Weird')\n",
    "elif n in range(6, 21):\n",
    "    print('Weird')\n",
    "else:\n",
    "    print('Not Weird')"
   ]
  },
  {
   "cell_type": "markdown",
   "metadata": {},
   "source": [
    "## Day 4: Class vs. Instance"
   ]
  },
  {
   "cell_type": "code",
   "execution_count": 6,
   "metadata": {},
   "outputs": [],
   "source": [
    "class Person():\n",
    "    \n",
    "    def __init__(self, initialAge):\n",
    "        if initialAge > 0:\n",
    "            self.age = initialAge\n",
    "        else:\n",
    "            self.age = 0\n",
    "            print('Age is not valid, setting age to 0.')\n",
    "    \n",
    "    def yearPasses(self):\n",
    "        self.age += 1\n",
    "    \n",
    "    def amIOld(self):\n",
    "        if (self.age < 13):\n",
    "            print('You\\'re young.')\n",
    "        elif self.age in range(13, 18):\n",
    "            print('You\\'re a teenager.')\n",
    "        else:\n",
    "            print('You are old.')"
   ]
  },
  {
   "cell_type": "code",
   "execution_count": 7,
   "metadata": {},
   "outputs": [
    {
     "name": "stdout",
     "output_type": "stream",
     "text": [
      "You're young.\n"
     ]
    }
   ],
   "source": [
    "jon = Person(1)\n",
    "jon.amIOld()"
   ]
  },
  {
   "cell_type": "code",
   "execution_count": 8,
   "metadata": {},
   "outputs": [
    {
     "name": "stdout",
     "output_type": "stream",
     "text": [
      "You're young.\n"
     ]
    }
   ],
   "source": [
    "jon.yearPasses()\n",
    "jon.amIOld()"
   ]
  },
  {
   "cell_type": "code",
   "execution_count": 10,
   "metadata": {},
   "outputs": [
    {
     "name": "stdout",
     "output_type": "stream",
     "text": [
      "You're a teeanger.\n",
      "You are old.\n"
     ]
    }
   ],
   "source": [
    "mary = Person(16)\n",
    "mary.amIOld()\n",
    "mary.yearPasses()\n",
    "mary.yearPasses()\n",
    "mary.amIOld()"
   ]
  },
  {
   "cell_type": "markdown",
   "metadata": {},
   "source": [
    "##  Day 5: Loops"
   ]
  },
  {
   "cell_type": "code",
   "execution_count": 11,
   "metadata": {},
   "outputs": [
    {
     "name": "stdout",
     "output_type": "stream",
     "text": [
      "4\n"
     ]
    }
   ],
   "source": [
    "n = int(input())\n",
    "while (n<2 or n>20):\n",
    "    n = int(input())"
   ]
  },
  {
   "cell_type": "code",
   "execution_count": 13,
   "metadata": {},
   "outputs": [
    {
     "name": "stdout",
     "output_type": "stream",
     "text": [
      "4 x 1 = 4\n",
      "4 x 2 = 8\n",
      "4 x 3 = 12\n",
      "4 x 4 = 16\n",
      "4 x 5 = 20\n",
      "4 x 6 = 24\n",
      "4 x 7 = 28\n",
      "4 x 8 = 32\n",
      "4 x 9 = 36\n",
      "4 x 10 = 40\n"
     ]
    }
   ],
   "source": [
    "for i in range(1, 11):\n",
    "    print(n, 'x', i, '=', n*i)"
   ]
  },
  {
   "cell_type": "markdown",
   "metadata": {},
   "source": [
    "## Day 6: Let's Review"
   ]
  },
  {
   "cell_type": "code",
   "execution_count": 3,
   "metadata": {},
   "outputs": [
    {
     "name": "stdout",
     "output_type": "stream",
     "text": [
      "2\n",
      "hello marcus\n",
      "hi epictetus\n"
     ]
    }
   ],
   "source": [
    "T = int(input())\n",
    "while (T < 1 or T > 10):\n",
    "    T = int(input())\n",
    "\n",
    "Si = []\n",
    "for i in range(T):    \n",
    "    S = input()\n",
    "    while (len(list(S)) < 2 or len(list(S)) > 10000):\n",
    "        S = input()\n",
    "    Si.append(S)"
   ]
  },
  {
   "cell_type": "code",
   "execution_count": 5,
   "metadata": {},
   "outputs": [
    {
     "data": {
      "text/plain": [
       "['hello marcus', 'hi epictetus']"
      ]
     },
     "execution_count": 5,
     "metadata": {},
     "output_type": "execute_result"
    }
   ],
   "source": [
    "Si"
   ]
  },
  {
   "cell_type": "code",
   "execution_count": 7,
   "metadata": {},
   "outputs": [
    {
     "name": "stdout",
     "output_type": "stream",
     "text": [
      "hlomru el acs\n",
      "h pceu ieitts\n"
     ]
    }
   ],
   "source": [
    "for s in Si:\n",
    "    char_list = list(s)\n",
    "    evn_chars = ''\n",
    "    odd_chars = ''\n",
    "    for i, c in enumerate(char_list):\n",
    "        if i % 2 == 0:\n",
    "            evn_chars += c\n",
    "        else:\n",
    "            odd_chars += c\n",
    "    print(evn_chars, odd_chars)"
   ]
  },
  {
   "cell_type": "markdown",
   "metadata": {},
   "source": [
    "## Day 7: Arrays\n",
    "https://www.hackerrank.com/challenges/30-arrays/problem"
   ]
  },
  {
   "cell_type": "code",
   "execution_count": 1,
   "metadata": {},
   "outputs": [
    {
     "name": "stdout",
     "output_type": "stream",
     "text": [
      "4\n"
     ]
    }
   ],
   "source": [
    "while True:\n",
    "    N = int(input())\n",
    "    if N in range(1, 1001):\n",
    "        break"
   ]
  },
  {
   "cell_type": "code",
   "execution_count": 4,
   "metadata": {},
   "outputs": [
    {
     "name": "stdout",
     "output_type": "stream",
     "text": [
      "1 4 3 2\n"
     ]
    }
   ],
   "source": [
    "while True:\n",
    "    A = input()\n",
    "    list_ = A.strip().split()\n",
    "    if len(list_) != N:\n",
    "        continue\n",
    "    Ai = list(map(int, list_))\n",
    "    break"
   ]
  },
  {
   "cell_type": "code",
   "execution_count": 5,
   "metadata": {},
   "outputs": [
    {
     "data": {
      "text/plain": [
       "[1, 4, 3, 2]"
      ]
     },
     "execution_count": 5,
     "metadata": {},
     "output_type": "execute_result"
    }
   ],
   "source": [
    "Ai"
   ]
  },
  {
   "cell_type": "code",
   "execution_count": 6,
   "metadata": {},
   "outputs": [
    {
     "data": {
      "text/plain": [
       "[2, 3, 4, 1]"
      ]
     },
     "execution_count": 6,
     "metadata": {},
     "output_type": "execute_result"
    }
   ],
   "source": [
    "Ai[::-1]"
   ]
  },
  {
   "cell_type": "code",
   "execution_count": 7,
   "metadata": {},
   "outputs": [
    {
     "name": "stdout",
     "output_type": "stream",
     "text": [
      "2 3 4 1\n"
     ]
    }
   ],
   "source": [
    "print(' '.join(str(a) for a in Ai[::-1]))"
   ]
  },
  {
   "cell_type": "markdown",
   "metadata": {},
   "source": [
    "## Day 8: Dictionaries and Maps\n",
    "https://www.hackerrank.com/challenges/30-dictionaries-and-maps/problem"
   ]
  },
  {
   "cell_type": "code",
   "execution_count": 1,
   "metadata": {},
   "outputs": [
    {
     "name": "stdout",
     "output_type": "stream",
     "text": [
      "3\n"
     ]
    }
   ],
   "source": [
    "while True:\n",
    "    N = int(input())\n",
    "    if N in range(1, int(1e5)+1):\n",
    "        break"
   ]
  },
  {
   "cell_type": "code",
   "execution_count": 2,
   "metadata": {},
   "outputs": [
    {
     "name": "stdout",
     "output_type": "stream",
     "text": [
      "sam 99912222\n",
      "tom 11122222\n",
      "harry 12299933\n",
      "{'sam': '99912222', 'tom': '11122222', 'harry': '12299933'}\n"
     ]
    }
   ],
   "source": [
    "names_and_phones = {}\n",
    "for n in range(N):\n",
    "    k, v = input().split()\n",
    "    names_and_phones[k] = v\n",
    "\n",
    "print(names_and_phones)"
   ]
  },
  {
   "cell_type": "code",
   "execution_count": 4,
   "metadata": {},
   "outputs": [
    {
     "name": "stdout",
     "output_type": "stream",
     "text": [
      "sam\n",
      "sam=99912222\n",
      "harry\n",
      "harry=12299933\n",
      "todd\n",
      "Not found\n",
      "\n"
     ]
    }
   ],
   "source": [
    "while True:\n",
    "    query = input()\n",
    "    if query == '':\n",
    "        break\n",
    "    elif query in names_and_phones.keys():\n",
    "        print('{}={}'.format(query, names_and_phones[query]))\n",
    "    else:\n",
    "        print('Not found')"
   ]
  },
  {
   "cell_type": "markdown",
   "metadata": {},
   "source": [
    "## Day 9: Recursion 3\n",
    "https://www.hackerrank.com/challenges/30-recursion/problem"
   ]
  },
  {
   "cell_type": "code",
   "execution_count": 1,
   "metadata": {},
   "outputs": [
    {
     "name": "stdout",
     "output_type": "stream",
     "text": [
      "3\n"
     ]
    }
   ],
   "source": [
    "while True:\n",
    "    N = int(input())\n",
    "    if N in range(2, 12):\n",
    "        break"
   ]
  },
  {
   "cell_type": "code",
   "execution_count": 2,
   "metadata": {},
   "outputs": [],
   "source": [
    "def factorial(n):\n",
    "    if n==0:\n",
    "        return 1\n",
    "    else:\n",
    "        return n * factorial(n-1)"
   ]
  },
  {
   "cell_type": "code",
   "execution_count": 3,
   "metadata": {},
   "outputs": [
    {
     "data": {
      "text/plain": [
       "6"
      ]
     },
     "execution_count": 3,
     "metadata": {},
     "output_type": "execute_result"
    }
   ],
   "source": [
    "factorial(N)"
   ]
  },
  {
   "cell_type": "markdown",
   "metadata": {},
   "source": [
    "## Day 10: Binary Numbers\n",
    "https://www.hackerrank.com/challenges/30-binary-numbers/problem"
   ]
  },
  {
   "cell_type": "code",
   "execution_count": 1,
   "metadata": {},
   "outputs": [
    {
     "name": "stdout",
     "output_type": "stream",
     "text": [
      "5\n"
     ]
    }
   ],
   "source": [
    "while True:\n",
    "    n = int(input())\n",
    "    if n in range(1, int(1e6)):\n",
    "        break"
   ]
  },
  {
   "cell_type": "code",
   "execution_count": 1,
   "metadata": {},
   "outputs": [],
   "source": [
    "def intoBinary(n):\n",
    "    binaryNum = ''\n",
    "    if n == 0:\n",
    "        return '0'\n",
    "    else:\n",
    "        while n >= 1:\n",
    "            if n % 2 == 0:\n",
    "                binaryNum += '0'\n",
    "                n = n/2\n",
    "            else:\n",
    "                binaryNum += '1'\n",
    "                n = (n-1)/2\n",
    "        return ''.join(reversed(binaryNum))"
   ]
  },
  {
   "cell_type": "code",
   "execution_count": 18,
   "metadata": {},
   "outputs": [
    {
     "data": {
      "text/plain": [
       "'101'"
      ]
     },
     "execution_count": 18,
     "metadata": {},
     "output_type": "execute_result"
    }
   ],
   "source": [
    "intoBinary(n)"
   ]
  },
  {
   "cell_type": "code",
   "execution_count": 19,
   "metadata": {},
   "outputs": [
    {
     "data": {
      "text/plain": [
       "'1111'"
      ]
     },
     "execution_count": 19,
     "metadata": {},
     "output_type": "execute_result"
    }
   ],
   "source": [
    "intoBinary(15)"
   ]
  },
  {
   "cell_type": "code",
   "execution_count": 20,
   "metadata": {},
   "outputs": [
    {
     "data": {
      "text/plain": [
       "'100011'"
      ]
     },
     "execution_count": 20,
     "metadata": {},
     "output_type": "execute_result"
    }
   ],
   "source": [
    "intoBinary(35)"
   ]
  },
  {
   "cell_type": "code",
   "execution_count": 17,
   "metadata": {},
   "outputs": [],
   "source": [
    "def count_ones(s):\n",
    "    maxones = 0\n",
    "    list_s = list(s)\n",
    "    print(list_s)\n",
    "    length = len(list_s)\n",
    "    for i in range(length):\n",
    "        ones = 0\n",
    "        if list_s[i] == '0':\n",
    "            pass\n",
    "        elif list_s[i] == '1':\n",
    "            ones += 1\n",
    "            k = i+1\n",
    "            while True:\n",
    "                if k >= length:\n",
    "                    break\n",
    "                elif list_s[k] == '1':\n",
    "                    ones += 1\n",
    "                    k += 1\n",
    "                else:\n",
    "                    break\n",
    "            maxones = max(maxones, ones)\n",
    "        else:\n",
    "            print('input is not a binary number')\n",
    "            return None\n",
    "    return maxones"
   ]
  },
  {
   "cell_type": "code",
   "execution_count": 18,
   "metadata": {},
   "outputs": [
    {
     "name": "stdout",
     "output_type": "stream",
     "text": [
      "['1', '1', '0', '0', '1', '1', '1', '0']\n"
     ]
    },
    {
     "data": {
      "text/plain": [
       "3"
      ]
     },
     "execution_count": 18,
     "metadata": {},
     "output_type": "execute_result"
    }
   ],
   "source": [
    "count_ones('11001110')"
   ]
  },
  {
   "cell_type": "markdown",
   "metadata": {},
   "source": [
    "## Day 11: 2D Arrays\n",
    "https://www.hackerrank.com/challenges/30-2d-arrays/problem"
   ]
  },
  {
   "cell_type": "code",
   "execution_count": 1,
   "metadata": {},
   "outputs": [],
   "source": [
    "n = 6  # array dimension: n x n"
   ]
  },
  {
   "cell_type": "code",
   "execution_count": 2,
   "metadata": {},
   "outputs": [],
   "source": [
    "def getinputnumbers(N, min, max):\n",
    "    X = input()\n",
    "    while len(X.strip().split(' ')) != N:\n",
    "        print(f'input length does not equal {N}')\n",
    "        X = input()\n",
    "    Xi = [int(x) for x in X.strip().split()]\n",
    "    for x in Xi:\n",
    "        if x < min or x > max:\n",
    "            print('invalid element(s)')\n",
    "            getinputnumbers(N, min, max)\n",
    "    return Xi"
   ]
  },
  {
   "cell_type": "code",
   "execution_count": 3,
   "metadata": {},
   "outputs": [
    {
     "name": "stdout",
     "output_type": "stream",
     "text": [
      "1 1 1 0 0 0\n",
      "0 1 0 0 0 0\n",
      "1 1 1 0 0 0\n",
      "0 0 2 4 4 0\n",
      "0 0 0 2 0 0\n",
      "0 0 1 2 4 0\n"
     ]
    },
    {
     "data": {
      "text/plain": [
       "[[1, 1, 1, 0, 0, 0],\n",
       " [0, 1, 0, 0, 0, 0],\n",
       " [1, 1, 1, 0, 0, 0],\n",
       " [0, 0, 2, 4, 4, 0],\n",
       " [0, 0, 0, 2, 0, 0],\n",
       " [0, 0, 1, 2, 4, 0]]"
      ]
     },
     "execution_count": 3,
     "metadata": {},
     "output_type": "execute_result"
    }
   ],
   "source": [
    "arr = []\n",
    "for i in range(n):\n",
    "    X = getinputnumbers(n, -9, 9)\n",
    "    arr.append(X)\n",
    "    \n",
    "arr"
   ]
  },
  {
   "cell_type": "code",
   "execution_count": 4,
   "metadata": {},
   "outputs": [],
   "source": [
    "def hourglassSum(arr):\n",
    "    nrows = len(arr)\n",
    "    ncols = len(arr[0])\n",
    "    nhori = ncols - 2\n",
    "    nvert = nrows - 2\n",
    "    n_hg = nhori * nvert\n",
    "    hgsum = []\n",
    "    for i in range(nhori):\n",
    "        for j in range(nvert):\n",
    "            hg = [[arr[i][j], arr[i][j+1], arr[i][j+2]], \n",
    "                  [0, arr[i+1][j+1], 0], \n",
    "                  [arr[i+2][j], arr[i+2][j+1], arr[i+2][j+2]]]\n",
    "            hgsum.append(sum(hg[0]) + sum(hg[1]) + sum(hg[2]))\n",
    "        \n",
    "    return max(hgsum)"
   ]
  },
  {
   "cell_type": "code",
   "execution_count": 5,
   "metadata": {},
   "outputs": [
    {
     "data": {
      "text/plain": [
       "19"
      ]
     },
     "execution_count": 5,
     "metadata": {},
     "output_type": "execute_result"
    }
   ],
   "source": [
    "hourglassSum(arr)"
   ]
  },
  {
   "cell_type": "markdown",
   "metadata": {},
   "source": [
    "## Day 12: Inheritance\n",
    "https://www.hackerrank.com/challenges/30-inheritance/problem"
   ]
  },
  {
   "cell_type": "code",
   "execution_count": 9,
   "metadata": {},
   "outputs": [],
   "source": [
    "class Person:\n",
    "    def __init__(self, firstName, lastName):\n",
    "        self.firstName = firstName\n",
    "        self.lastName = lastName\n",
    "    \n",
    "    def printPerson(self):\n",
    "        print('Name: {} {}'.format(self.firstName, self.lastName))\n",
    "    \n",
    "class Student(Person):\n",
    "    def __init__(self, firstName, lastName, id1, scores):\n",
    "        super().__init__(firstName, lastName)\n",
    "        self.id1 = id1\n",
    "        self.scores = scores\n",
    "        \n",
    "    def calcgrade(self):\n",
    "        avg_score = sum(self.scores) / len(self.scores)\n",
    "        if avg_score >= 90. and avg_score <= 100.:\n",
    "            g = 'O'\n",
    "        elif avg_score >= 80. and avg_score < 90:\n",
    "            g = 'E'\n",
    "        elif avg_score >= 70. and avg_score < 80:\n",
    "            g = 'A'\n",
    "        elif avg_score >= 55. and avg_score < 70:\n",
    "            g = 'P'\n",
    "        elif avg_score >= 40. and avg_score < 55:\n",
    "            g = 'D'\n",
    "        elif avg_score < 40:\n",
    "            g = 'T'\n",
    "        return g"
   ]
  },
  {
   "cell_type": "code",
   "execution_count": 3,
   "metadata": {},
   "outputs": [
    {
     "name": "stdout",
     "output_type": "stream",
     "text": [
      "Heraldo Memelli 8135627\n"
     ]
    }
   ],
   "source": [
    "while True:\n",
    "    firstName, lastName, id1 = input().strip().split()\n",
    "    if len(firstName) in range(1, 11) and len(lastName) in range(1, 11) \\\n",
    "        and len(id1) == 7:\n",
    "        break"
   ]
  },
  {
   "cell_type": "code",
   "execution_count": 4,
   "metadata": {},
   "outputs": [
    {
     "name": "stdout",
     "output_type": "stream",
     "text": [
      "100 80\n"
     ]
    }
   ],
   "source": [
    "while True:\n",
    "    scores = list(map(int, input().strip().split()))\n",
    "    if (all(score in range(0, 101) for score in scores)):\n",
    "        break"
   ]
  },
  {
   "cell_type": "code",
   "execution_count": 10,
   "metadata": {},
   "outputs": [
    {
     "name": "stdout",
     "output_type": "stream",
     "text": [
      "Name: Heraldo Memelli\n",
      "ID: 8135627\n",
      "Grade: O\n"
     ]
    }
   ],
   "source": [
    "student1 = Student(firstName, lastName, id1, scores)\n",
    "student1.printPerson()\n",
    "print('ID: {}'.format(student1.id1))\n",
    "print('Grade: {}'.format(student1.calcgrade()))"
   ]
  },
  {
   "cell_type": "markdown",
   "metadata": {},
   "source": [
    "## Day 13: Abstract Classes\n",
    "https://www.hackerrank.com/challenges/30-abstract-classes/problem"
   ]
  },
  {
   "cell_type": "code",
   "execution_count": 8,
   "metadata": {},
   "outputs": [],
   "source": [
    "from abc import ABCMeta, abstractmethod\n",
    "\n",
    "class Book(object, metaclass=ABCMeta):\n",
    "    def __init__(self, title, author):\n",
    "        self.title = title\n",
    "        self.author = author\n",
    "    @abstractmethod\n",
    "    def display():\n",
    "        pass\n",
    "        \n",
    "class MyBook(Book):\n",
    "    def __init__(self, title, author, price):\n",
    "        super().__init__(title, author)\n",
    "        self.price = price\n",
    "    def display(self):\n",
    "        print('Title: {}'.format(self.title))\n",
    "        print('Author: {}'.format(self.author))\n",
    "        print('Price: {}'.format(self.price))"
   ]
  },
  {
   "cell_type": "code",
   "execution_count": 9,
   "metadata": {},
   "outputs": [],
   "source": [
    "mybook1 = MyBook('Meditations', 'Marcus Aurelius', 29.95)"
   ]
  },
  {
   "cell_type": "code",
   "execution_count": 10,
   "metadata": {},
   "outputs": [
    {
     "name": "stdout",
     "output_type": "stream",
     "text": [
      "Title: Meditations\n",
      "Author: Marcus Aurelius\n",
      "Price: 29.95\n"
     ]
    }
   ],
   "source": [
    "mybook1.display()"
   ]
  },
  {
   "cell_type": "markdown",
   "metadata": {},
   "source": [
    "## Day 14: Scope\n",
    "https://www.hackerrank.com/challenges/30-scope/problem"
   ]
  },
  {
   "cell_type": "code",
   "execution_count": 11,
   "metadata": {},
   "outputs": [],
   "source": [
    "class Difference:\n",
    "    def __init__(self, a):\n",
    "        self.__elements = a\n",
    "    def computeDifference(self):\n",
    "        self.maximumDifference = sorted(self.__elements)[-1] - sorted(self.__elements)[0]"
   ]
  },
  {
   "cell_type": "code",
   "execution_count": 13,
   "metadata": {},
   "outputs": [
    {
     "name": "stdout",
     "output_type": "stream",
     "text": [
      "14 25 23 98 42 76 23 55 99\n",
      "85\n"
     ]
    }
   ],
   "source": [
    "a = [int(e) for e in input().strip().split()]\n",
    "\n",
    "d = Difference(a)\n",
    "d.computeDifference()\n",
    "\n",
    "print(d.maximumDifference)"
   ]
  },
  {
   "cell_type": "markdown",
   "metadata": {},
   "source": [
    "## Day 15: Linked List\n",
    "https://www.hackerrank.com/challenges/30-linked-list/tutorial"
   ]
  },
  {
   "cell_type": "code",
   "execution_count": 3,
   "metadata": {},
   "outputs": [],
   "source": [
    "class Node:\n",
    "    def __init__(self,data):\n",
    "        self.data = data\n",
    "        self.next = None\n",
    "\n",
    "class Solution: \n",
    "    def display(self,head):\n",
    "        current = head\n",
    "        while current:\n",
    "            print(current.data,end=' ')\n",
    "            current = current.next\n",
    "            \n",
    "    def insert(self,head,data): \n",
    "    #Complete this method\n",
    "        if (head == None):\n",
    "            head = Node(data)\n",
    "        elif (head.next == None):\n",
    "            head.next = Node(data)\n",
    "        else: \n",
    "            self.insert(head.next, data)\n",
    "        return head"
   ]
  },
  {
   "cell_type": "code",
   "execution_count": 4,
   "metadata": {},
   "outputs": [
    {
     "name": "stdout",
     "output_type": "stream",
     "text": [
      "4\n",
      "2\n",
      "1\n",
      "4\n",
      "3\n",
      "2 1 4 3 "
     ]
    }
   ],
   "source": [
    "mylist= Solution()\n",
    "T=int(input())\n",
    "head=None\n",
    "for i in range(T):\n",
    "    data=int(input())\n",
    "    head=mylist.insert(head,data)    \n",
    "mylist.display(head);"
   ]
  },
  {
   "cell_type": "markdown",
   "metadata": {},
   "source": [
    "## Day 16: Exceptions - String to Integer\n",
    "https://www.hackerrank.com/challenges/30-exceptions-string-to-integer/problem"
   ]
  },
  {
   "cell_type": "code",
   "execution_count": 3,
   "metadata": {},
   "outputs": [
    {
     "name": "stdout",
     "output_type": "stream",
     "text": [
      "abA56\n"
     ]
    }
   ],
   "source": [
    "while True:\n",
    "    S = input().strip().lower()\n",
    "    if len(S) in range(1, 7):\n",
    "        break"
   ]
  },
  {
   "cell_type": "code",
   "execution_count": 7,
   "metadata": {},
   "outputs": [
    {
     "name": "stdout",
     "output_type": "stream",
     "text": [
      "Bad String\n"
     ]
    }
   ],
   "source": [
    "try:\n",
    "    print(int(S))\n",
    "except ValueError:\n",
    "    print('Bad String')"
   ]
  },
  {
   "cell_type": "markdown",
   "metadata": {},
   "source": [
    "## Day 17: More Exceptions\n",
    "https://www.hackerrank.com/challenges/30-more-exceptions/problem"
   ]
  },
  {
   "cell_type": "code",
   "execution_count": 1,
   "metadata": {},
   "outputs": [
    {
     "data": {
      "text/plain": [
       "25"
      ]
     },
     "execution_count": 1,
     "metadata": {},
     "output_type": "execute_result"
    }
   ],
   "source": [
    "pow(5, 2)"
   ]
  },
  {
   "cell_type": "code",
   "execution_count": 18,
   "metadata": {},
   "outputs": [],
   "source": [
    "class myCalculator:\n",
    "    def __init__(self, n, p):\n",
    "        self.n = n\n",
    "        self.p = p\n",
    "    def calcpow(self):\n",
    "        if self.n < 0 or self.p < 0:\n",
    "            raise Exception(\"n and p should be non-negative\")\n",
    "        else:\n",
    "            ans = pow(self.n, self.p)\n",
    "            return ans"
   ]
  },
  {
   "cell_type": "code",
   "execution_count": 3,
   "metadata": {},
   "outputs": [
    {
     "name": "stdout",
     "output_type": "stream",
     "text": [
      "4\n"
     ]
    }
   ],
   "source": [
    "while True:\n",
    "    T = int(input())\n",
    "    if T in range(1, 6):\n",
    "        break"
   ]
  },
  {
   "cell_type": "code",
   "execution_count": 4,
   "metadata": {},
   "outputs": [
    {
     "name": "stdout",
     "output_type": "stream",
     "text": [
      "3 5\n",
      "2 4\n",
      "-1 -2\n",
      "-1 3\n"
     ]
    }
   ],
   "source": [
    "N = []\n",
    "P = []\n",
    "for t in range(T):\n",
    "    n, p = list(map(int, input().strip().split()))\n",
    "    N.append(n)\n",
    "    P.append(p)"
   ]
  },
  {
   "cell_type": "code",
   "execution_count": 19,
   "metadata": {},
   "outputs": [
    {
     "name": "stdout",
     "output_type": "stream",
     "text": [
      "243\n",
      "16\n",
      "n and p should be non-negative\n",
      "n and p should be non-negative\n"
     ]
    }
   ],
   "source": [
    "for t in range(T):\n",
    "    try:\n",
    "        ans = myCalculator(N[t], P[t]).calcpow()\n",
    "        print(ans)\n",
    "    except Exception as e:\n",
    "        print(e)"
   ]
  },
  {
   "cell_type": "code",
   "execution_count": 7,
   "metadata": {},
   "outputs": [
    {
     "data": {
      "text/plain": [
       "81"
      ]
     },
     "execution_count": 7,
     "metadata": {},
     "output_type": "execute_result"
    }
   ],
   "source": [
    "pow(9, 2)"
   ]
  },
  {
   "cell_type": "markdown",
   "metadata": {},
   "source": [
    "## Day 18: Queues and Stacks\n",
    "https://www.hackerrank.com/challenges/30-queues-stacks/problem"
   ]
  },
  {
   "cell_type": "code",
   "execution_count": 5,
   "metadata": {},
   "outputs": [],
   "source": [
    "class Solution:\n",
    "    # Write your code here\n",
    "    def __init__(self):\n",
    "        self.mystack = list()\n",
    "        self.myqueue = list()\n",
    "        \n",
    "    def pushCharacter(self, char):\n",
    "        self.mystack.append(char)\n",
    "        \n",
    "    def enqueueCharacter(self, char):\n",
    "        self.myqueue.append(char)\n",
    "        \n",
    "    def popCharacter(self):\n",
    "        return(self.mystack.pop(-1))\n",
    "        \n",
    "    def dequeueCharacter(self):\n",
    "        return(self.myqueue.pop(0))"
   ]
  },
  {
   "cell_type": "code",
   "execution_count": 6,
   "metadata": {},
   "outputs": [
    {
     "name": "stdout",
     "output_type": "stream",
     "text": [
      "argentina\n",
      "The word, argentina, is not a palindrome.\n"
     ]
    }
   ],
   "source": [
    "# read the string s\n",
    "s=input()\n",
    "#Create the Solution class object\n",
    "obj=Solution()   \n",
    "\n",
    "l=len(s)\n",
    "# push/enqueue all the characters of string s to stack\n",
    "for i in range(l):\n",
    "    obj.pushCharacter(s[i])\n",
    "    obj.enqueueCharacter(s[i])\n",
    "    \n",
    "isPalindrome=True\n",
    "'''\n",
    "pop the top character from stack\n",
    "dequeue the first character from queue\n",
    "compare both the characters\n",
    "''' \n",
    "for i in range(l // 2):\n",
    "    if obj.popCharacter()!=obj.dequeueCharacter():\n",
    "        isPalindrome=False\n",
    "        break\n",
    "#finally print whether string s is palindrome or not.\n",
    "if isPalindrome:\n",
    "    print(\"The word, \"+s+\", is a palindrome.\")\n",
    "else:\n",
    "    print(\"The word, \"+s+\", is not a palindrome.\")    "
   ]
  },
  {
   "cell_type": "markdown",
   "metadata": {},
   "source": [
    "## Day 19: Interfaces\n",
    "https://www.hackerrank.com/challenges/30-interfaces/problem"
   ]
  },
  {
   "cell_type": "code",
   "execution_count": 1,
   "metadata": {},
   "outputs": [
    {
     "name": "stdout",
     "output_type": "stream",
     "text": [
      "6\n"
     ]
    }
   ],
   "source": [
    "while True:\n",
    "    n = int(input())\n",
    "    if n in range(1, 101):\n",
    "        break"
   ]
  },
  {
   "cell_type": "code",
   "execution_count": 13,
   "metadata": {},
   "outputs": [],
   "source": [
    "class AdvancedArithmetics(object):\n",
    "    def divisorSum(n):\n",
    "        raise NotImplementedError\n",
    "\n",
    "class Calculator(AdvancedArithmetics):\n",
    "    def divisorSum(self, n):\n",
    "        denoms = []\n",
    "        for i in range(1, n+1):\n",
    "            if n % i == 0:\n",
    "                denoms.append(i)\n",
    "        return sum(denoms)"
   ]
  },
  {
   "cell_type": "code",
   "execution_count": 14,
   "metadata": {},
   "outputs": [
    {
     "name": "stdout",
     "output_type": "stream",
     "text": [
      "I implemented: AdvancedArithmetics\n",
      "12\n"
     ]
    }
   ],
   "source": [
    "my_calculator = Calculator()\n",
    "s = my_calculator.divisorSum(n)\n",
    "print(\"I implemented: \" + type(my_calculator).__bases__[0].__name__)\n",
    "print(s)"
   ]
  },
  {
   "cell_type": "markdown",
   "metadata": {},
   "source": [
    "## Day 20: Sorting\n",
    "https://www.hackerrank.com/challenges/30-sorting/problem"
   ]
  },
  {
   "cell_type": "code",
   "execution_count": 1,
   "metadata": {},
   "outputs": [
    {
     "name": "stdout",
     "output_type": "stream",
     "text": [
      "3\n"
     ]
    }
   ],
   "source": [
    "while True:\n",
    "    n = int(input())\n",
    "    if n in range(2, 601):\n",
    "        break"
   ]
  },
  {
   "cell_type": "code",
   "execution_count": 9,
   "metadata": {},
   "outputs": [
    {
     "name": "stdout",
     "output_type": "stream",
     "text": [
      "3 2 1\n"
     ]
    }
   ],
   "source": [
    "while True:\n",
    "    a = list(map(int, input().strip().split()))\n",
    "    if len(a) == n:\n",
    "        break"
   ]
  },
  {
   "cell_type": "code",
   "execution_count": 8,
   "metadata": {},
   "outputs": [],
   "source": [
    "def swapper(a):\n",
    "    d = len(a)\n",
    "    num_swaps = 0\n",
    "    for k in range(d):\n",
    "        for i in range(d-1):\n",
    "            if a[i] > a[i+1]:\n",
    "                a[i], a[i+1] = a[i+1], a[i]\n",
    "                num_swaps += 1\n",
    "\n",
    "    print('Array is sorted in {} swaps'.format(num_swaps))\n",
    "    print('First Element: {}'.format(a[0]))\n",
    "    print('Last Element: {}'.format(a[-1]))"
   ]
  },
  {
   "cell_type": "code",
   "execution_count": 10,
   "metadata": {},
   "outputs": [
    {
     "name": "stdout",
     "output_type": "stream",
     "text": [
      "Array is sorted in 3 swaps\n",
      "First element: 1\n",
      "Last element: 3\n"
     ]
    }
   ],
   "source": [
    "swapper(a)"
   ]
  },
  {
   "cell_type": "markdown",
   "metadata": {},
   "source": [
    "## Day 21: Generics\n",
    "https://www.hackerrank.com/challenges/30-generics/problem\n",
    "\n",
    "No Python support"
   ]
  },
  {
   "cell_type": "code",
   "execution_count": null,
   "metadata": {},
   "outputs": [],
   "source": []
  }
 ],
 "metadata": {
  "kernelspec": {
   "display_name": "Python 3",
   "language": "python",
   "name": "python3"
  },
  "language_info": {
   "codemirror_mode": {
    "name": "ipython",
    "version": 3
   },
   "file_extension": ".py",
   "mimetype": "text/x-python",
   "name": "python",
   "nbconvert_exporter": "python",
   "pygments_lexer": "ipython3",
   "version": "3.6.6"
  }
 },
 "nbformat": 4,
 "nbformat_minor": 2
}
