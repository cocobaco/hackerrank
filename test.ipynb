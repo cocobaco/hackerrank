{
 "cells": [
  {
   "cell_type": "markdown",
   "metadata": {},
   "source": [
    "# sandbox code test"
   ]
  },
  {
   "cell_type": "code",
   "execution_count": 1,
   "metadata": {},
   "outputs": [],
   "source": [
    "def hourglassSum(arr):\n",
    "    nrows = len(arr)\n",
    "    ncols = len(arr[0])\n",
    "    nhori = ncols - 2\n",
    "    nvert = nrows - 2\n",
    "    n_hg = nhori * nvert\n",
    "    hgsum = []\n",
    "    for i in range(nhori):\n",
    "        for j in range(nvert):\n",
    "            hg = [[arr[i][j], arr[i][j+1], arr[i][j+2]], \n",
    "                  [0, arr[i+1][j+1], 0], \n",
    "                  [arr[i+2][j], arr[i+2][j+1], arr[i+2][j+2]]]\n",
    "#             print(hg)\n",
    "            hgsum.append(sum(hg[0]) + sum(hg[1]) + sum(hg[2]))\n",
    "        \n",
    "    return max(hgsum)"
   ]
  },
  {
   "cell_type": "code",
   "execution_count": 2,
   "metadata": {},
   "outputs": [],
   "source": [
    "arr = []\n",
    "\n",
    "nums = '''1 1 1 0 0 0\n",
    "0 1 0 0 0 0\n",
    "1 1 1 0 0 0\n",
    "0 0 2 4 4 0\n",
    "0 0 0 2 0 0\n",
    "0 0 1 2 4 0'''\n",
    "\n",
    "# for _ in range(6):\n",
    "#     arr.append(list(map(int, input().rstrip().split())))\n",
    "\n",
    "arr = [[1,1,1,0,0,0], \n",
    "      [0,1,0,0,0,0],\n",
    "      [1,1,1,0,0,0],\n",
    "      [0,0,2,4,4,0],\n",
    "      [0,0,0,2,0,0],\n",
    "      [0,0,1,2,4,0]]\n",
    "    \n",
    "result = hourglassSum(arr)"
   ]
  },
  {
   "cell_type": "code",
   "execution_count": 3,
   "metadata": {},
   "outputs": [
    {
     "data": {
      "text/plain": [
       "19"
      ]
     },
     "execution_count": 3,
     "metadata": {},
     "output_type": "execute_result"
    }
   ],
   "source": [
    "result"
   ]
  },
  {
   "cell_type": "code",
   "execution_count": 4,
   "metadata": {},
   "outputs": [
    {
     "data": {
      "text/plain": [
       "8"
      ]
     },
     "execution_count": 4,
     "metadata": {},
     "output_type": "execute_result"
    }
   ],
   "source": [
    "sum([[4, 4, 0], [0, 0, 0], [2, 4, 0]][0])"
   ]
  },
  {
   "cell_type": "markdown",
   "metadata": {},
   "source": [
    "## Dynamic Array\n",
    "https://www.hackerrank.com/challenges/dynamic-array/problem"
   ]
  },
  {
   "cell_type": "code",
   "execution_count": 5,
   "metadata": {},
   "outputs": [
    {
     "name": "stdout",
     "output_type": "stream",
     "text": [
      "2 5\n"
     ]
    }
   ],
   "source": [
    "# number of sequences, and number of queries\n",
    "N, Q = map(int, input().split())\n",
    "while (N < 1 or Q > 1e5):\n",
    "    N, Q = map(int, input().split())"
   ]
  },
  {
   "cell_type": "code",
   "execution_count": 6,
   "metadata": {},
   "outputs": [],
   "source": [
    "def dynamicArray(N, queries):\n",
    "    seqList = []\n",
    "    for n in range(N):\n",
    "        seqList.append([])\n",
    "    lastAnswer = 0\n",
    "    ans = []\n",
    "    for query in queries:\n",
    "        qtype, x, y = query\n",
    "        if qtype == 1:\n",
    "            seqList[(x^lastAnswer) % N].append(y)\n",
    "        elif qtype == 2:\n",
    "            seq = seqList[(x^lastAnswer) % N]\n",
    "            lastAnswer = seq[y % len(seq)]\n",
    "            ans.append(lastAnswer)\n",
    "    return ans"
   ]
  },
  {
   "cell_type": "code",
   "execution_count": 7,
   "metadata": {},
   "outputs": [],
   "source": [
    "def get_queries(Q):\n",
    "    queries = []\n",
    "    for _ in range(Q):\n",
    "        query = input()\n",
    "        qtype, x, y = [int(q) for q in query.split()]\n",
    "        if (qtype not in [1, 2]) or (x not in range(0, int(1e9)+1) \n",
    "                                     or (y not in range(0, int(1e9)+1))):\n",
    "            query = input()\n",
    "        queries.append(int(q) for q in query.strip().split())\n",
    "    return queries"
   ]
  },
  {
   "cell_type": "code",
   "execution_count": 8,
   "metadata": {},
   "outputs": [
    {
     "name": "stdout",
     "output_type": "stream",
     "text": [
      "1 0 1\n",
      "1 1 2\n",
      "1 1 1\n",
      "2 0 1\n",
      "2 1 1\n"
     ]
    }
   ],
   "source": [
    "queries = get_queries(Q)"
   ]
  },
  {
   "cell_type": "code",
   "execution_count": 9,
   "metadata": {},
   "outputs": [
    {
     "data": {
      "text/plain": [
       "[<generator object get_queries.<locals>.<genexpr> at 0x000001D502A73DB0>,\n",
       " <generator object get_queries.<locals>.<genexpr> at 0x000001D502A73B48>,\n",
       " <generator object get_queries.<locals>.<genexpr> at 0x000001D502A73F68>,\n",
       " <generator object get_queries.<locals>.<genexpr> at 0x000001D502A73938>,\n",
       " <generator object get_queries.<locals>.<genexpr> at 0x000001D502A73FC0>]"
      ]
     },
     "execution_count": 9,
     "metadata": {},
     "output_type": "execute_result"
    }
   ],
   "source": [
    "queries"
   ]
  },
  {
   "cell_type": "code",
   "execution_count": 10,
   "metadata": {},
   "outputs": [
    {
     "name": "stdout",
     "output_type": "stream",
     "text": [
      "1\n",
      "1\n"
     ]
    }
   ],
   "source": [
    "ans = dynamicArray(N, queries)\n",
    "print('\\n'.join(map(str, ans)))"
   ]
  },
  {
   "cell_type": "markdown",
   "metadata": {},
   "source": [
    "## Jumping on the Clouds\n",
    "https://www.hackerrank.com/challenges/jumping-on-the-clouds"
   ]
  },
  {
   "cell_type": "code",
   "execution_count": 11,
   "metadata": {},
   "outputs": [
    {
     "name": "stdout",
     "output_type": "stream",
     "text": [
      "7\n"
     ]
    }
   ],
   "source": [
    "while True:\n",
    "    n = int(input())\n",
    "    if n in range(2, 101):\n",
    "        break\n",
    "    print('try again')"
   ]
  },
  {
   "cell_type": "code",
   "execution_count": 17,
   "metadata": {},
   "outputs": [],
   "source": [
    "def getnumbers(n, xmin, xmax):\n",
    "    x = input()\n",
    "    if len(x.strip().split()) != n:\n",
    "        getnumbers(n, xmin, xmax)\n",
    "    Xi = list(map(int, x.strip().split()))\n",
    "    if Xi[0] != 0 or Xi[-1] != 0:\n",
    "        getnumbers(n, xmin, xmax)\n",
    "    for x in Xi:\n",
    "        if x not in range(xmin, xmax + 1):\n",
    "            getnumbers(n, xmin, xmax)           \n",
    "    return Xi"
   ]
  },
  {
   "cell_type": "code",
   "execution_count": 18,
   "metadata": {},
   "outputs": [
    {
     "name": "stdout",
     "output_type": "stream",
     "text": [
      "0 1 0 0 1 0 0\n",
      "[0, 1, 0, 0, 1, 0, 0]\n"
     ]
    }
   ],
   "source": [
    "Xi = getnumbers(n, 0, 1)"
   ]
  },
  {
   "cell_type": "code",
   "execution_count": 21,
   "metadata": {},
   "outputs": [
    {
     "name": "stdout",
     "output_type": "stream",
     "text": [
      "[1, 4]\n"
     ]
    }
   ],
   "source": [
    "avoids = [i for i, x in enumerate(Xi) if x == 1]\n",
    "print(avoids)"
   ]
  },
  {
   "cell_type": "code",
   "execution_count": 27,
   "metadata": {},
   "outputs": [
    {
     "name": "stdout",
     "output_type": "stream",
     "text": [
      "4\n"
     ]
    }
   ],
   "source": [
    "i = 0\n",
    "jump = 0\n",
    "while i != n-1:\n",
    "    if i+2 <= n-1:\n",
    "        if Xi[i+2] == 0:\n",
    "            jump += 1\n",
    "            i += 2\n",
    "        else:\n",
    "            jump += 1\n",
    "            i += 1\n",
    "    else:\n",
    "        jump += 1\n",
    "        i += 1\n",
    "        \n",
    "print(jump)"
   ]
  },
  {
   "cell_type": "code",
   "execution_count": 24,
   "metadata": {},
   "outputs": [
    {
     "data": {
      "text/plain": [
       "7"
      ]
     },
     "execution_count": 24,
     "metadata": {},
     "output_type": "execute_result"
    }
   ],
   "source": [
    "n"
   ]
  },
  {
   "cell_type": "code",
   "execution_count": 25,
   "metadata": {},
   "outputs": [
    {
     "data": {
      "text/plain": [
       "[0, 1, 0, 0, 1, 0, 0]"
      ]
     },
     "execution_count": 25,
     "metadata": {},
     "output_type": "execute_result"
    }
   ],
   "source": [
    "Xi"
   ]
  },
  {
   "cell_type": "code",
   "execution_count": 26,
   "metadata": {},
   "outputs": [
    {
     "data": {
      "text/plain": [
       "0"
      ]
     },
     "execution_count": 26,
     "metadata": {},
     "output_type": "execute_result"
    }
   ],
   "source": [
    "Xi[6]"
   ]
  },
  {
   "cell_type": "code",
   "execution_count": null,
   "metadata": {},
   "outputs": [],
   "source": []
  }
 ],
 "metadata": {
  "kernelspec": {
   "display_name": "Python 3",
   "language": "python",
   "name": "python3"
  },
  "language_info": {
   "codemirror_mode": {
    "name": "ipython",
    "version": 3
   },
   "file_extension": ".py",
   "mimetype": "text/x-python",
   "name": "python",
   "nbconvert_exporter": "python",
   "pygments_lexer": "ipython3",
   "version": "3.6.5"
  }
 },
 "nbformat": 4,
 "nbformat_minor": 2
}
